{
 "cells": [
  {
   "cell_type": "code",
   "execution_count": 1,
   "metadata": {},
   "outputs": [],
   "source": [
    "import os\n",
    "import pandas as pd\n",
    "import matplotlib.pyplot as plt\n",
    "import numpy as np\n",
    "import seaborn as sns"
   ]
  },
  {
   "cell_type": "code",
   "execution_count": 2,
   "metadata": {},
   "outputs": [],
   "source": [
    "root_dir = './data'\n",
    "\n",
    "csv_dir = os.path.join(root_dir, 'csv')\n",
    "txt_dir = os.path.join(root_dir, 'txt')\n",
    "\n",
    "data_entry_file = os.path.join(csv_dir, 'Data_Entry_2017_v2020.csv')\n",
    "\n",
    "data_entry_df = pd.read_csv(data_entry_file)"
   ]
  },
  {
   "cell_type": "code",
   "execution_count": 3,
   "metadata": {},
   "outputs": [],
   "source": [
    "data_entry_df_copy = data_entry_df.copy()"
   ]
  },
  {
   "cell_type": "code",
   "execution_count": 4,
   "metadata": {},
   "outputs": [],
   "source": [
    "finding_labels_df = data_entry_df_copy['Finding Labels'].str.get_dummies(sep='|')\n",
    "\n",
    "data_entry_df_copy = pd.concat([data_entry_df_copy, finding_labels_df], 1)"
   ]
  },
  {
   "cell_type": "code",
   "execution_count": 5,
   "metadata": {},
   "outputs": [],
   "source": [
    "old_new_columns_map = {\n",
    "    'Image Index': 'image_index',\n",
    "    'Finding Labels': 'finding_labels',\n",
    "    'Follow-up #': 'follow_up_number',\n",
    "    'Patient ID': 'patient_id',\n",
    "    'Patient Age':'patient_age',\n",
    "    'Patient Gender': 'patient_gender',\n",
    "    'View Position': 'view_position',\n",
    "    'OriginalImage[Width': 'original_image_width',\n",
    "    'Height]': 'original_image_height',\n",
    "    'OriginalImagePixelSpacing[x': 'original_image_pixel_spacing_x',\n",
    "    'y]': 'original_image_pixel_spacing_y',\n",
    "    'Atelectasis': 'atelectasis',\n",
    "    'Cardiomegaly': 'cardiomegaly',\n",
    "    'Consolidation': 'consolidation',\n",
    "    'Edema': 'edema',\n",
    "    'Effusion': 'effusion',\n",
    "    'Emphysema': 'emphysema',\n",
    "    'Fibrosis': 'fibrosis',\n",
    "    'Hernia': 'hernia',\n",
    "    'Infiltration': 'infiltration',\n",
    "    'Mass': 'mass',\n",
    "    'No Finding': 'no_finding',\n",
    "    'Nodule': 'nodule',\n",
    "    'Pleural_Thickening': 'pleural_thickening',\n",
    "    'Pneumonia': 'pneumonia',\n",
    "    'Pneumothorax': 'pneumothorax'\n",
    "}\n",
    "\n",
    "data_entry_df_copy.rename(columns=old_new_columns_map, inplace=True)"
   ]
  },
  {
   "cell_type": "code",
   "execution_count": 6,
   "metadata": {},
   "outputs": [],
   "source": [
    "old_new_columns_map = {\n",
    "    'Atelectasis': 'atelectasis',\n",
    "    'Cardiomegaly': 'cardiomegaly',\n",
    "    'Consolidation': 'consolidation',\n",
    "    'Edema': 'edema',\n",
    "    'Effusion': 'effusion',\n",
    "    'Emphysema': 'emphysema',\n",
    "    'Fibrosis': 'fibrosis',\n",
    "    'Hernia': 'hernia',\n",
    "    'Infiltration': 'infiltration',\n",
    "    'Mass': 'mass',\n",
    "    'No Finding': 'no_finding',\n",
    "    'Nodule': 'nodule',\n",
    "    'Pleural_Thickening': 'pleural_thickening',\n",
    "    'Pneumonia': 'pneumonia',\n",
    "    'Pneumothorax': 'pneumothorax'\n",
    "}\n",
    "\n",
    "finding_labels_df.rename(columns=old_new_columns_map, inplace=True)"
   ]
  },
  {
   "cell_type": "code",
   "execution_count": 7,
   "metadata": {},
   "outputs": [],
   "source": [
    "df = data_entry_df_copy.copy()"
   ]
  },
  {
   "cell_type": "markdown",
   "metadata": {},
   "source": [
    "---\n",
    "---\n",
    "---"
   ]
  },
  {
   "cell_type": "code",
   "execution_count": 8,
   "metadata": {},
   "outputs": [
    {
     "data": {
      "text/plain": [
       "('./data/txt/train_val_list.txt', './data/txt/test_list.txt')"
      ]
     },
     "execution_count": 8,
     "metadata": {},
     "output_type": "execute_result"
    }
   ],
   "source": [
    "train_txt = os.path.join(txt_dir, 'train_val_list.txt')\n",
    "test_txt = os.path.join(txt_dir, 'test_list.txt')\n",
    "\n",
    "train_txt, test_txt"
   ]
  },
  {
   "cell_type": "code",
   "execution_count": 9,
   "metadata": {},
   "outputs": [],
   "source": [
    "def get_target_list(txt_file):\n",
    "    \n",
    "    lst = []\n",
    "    \n",
    "    with open(txt_file) as f:\n",
    "        for line in f:\n",
    "            lst.append(line.split('\\n')[0].strip())\n",
    "\n",
    "    return lst"
   ]
  },
  {
   "cell_type": "code",
   "execution_count": 10,
   "metadata": {},
   "outputs": [],
   "source": [
    "train_list = get_target_list(train_txt)\n",
    "test_list = get_target_list(test_txt)"
   ]
  },
  {
   "cell_type": "code",
   "execution_count": 11,
   "metadata": {},
   "outputs": [],
   "source": [
    "train_df = df[df.image_index.isin(train_list)]"
   ]
  },
  {
   "cell_type": "code",
   "execution_count": 12,
   "metadata": {},
   "outputs": [],
   "source": [
    "test_df = df[df.image_index.isin(test_list)]"
   ]
  },
  {
   "cell_type": "code",
   "execution_count": 13,
   "metadata": {},
   "outputs": [],
   "source": [
    "train_filepath = os.path.join(csv_dir, \"train_data.csv\")\n",
    "\n",
    "train_df.to_csv (train_filepath, index = True, header = True)"
   ]
  },
  {
   "cell_type": "code",
   "execution_count": 14,
   "metadata": {},
   "outputs": [],
   "source": [
    "test_filepath = os.path.join(csv_dir, \"test_data.csv\")\n",
    "\n",
    "test_df.to_csv (test_filepath, index = True, header = True)"
   ]
  }
 ],
 "metadata": {
  "kernelspec": {
   "display_name": "Python 3",
   "language": "python",
   "name": "python3"
  },
  "language_info": {
   "codemirror_mode": {
    "name": "ipython",
    "version": 3
   },
   "file_extension": ".py",
   "mimetype": "text/x-python",
   "name": "python",
   "nbconvert_exporter": "python",
   "pygments_lexer": "ipython3",
   "version": "3.8.3"
  }
 },
 "nbformat": 4,
 "nbformat_minor": 4
}
