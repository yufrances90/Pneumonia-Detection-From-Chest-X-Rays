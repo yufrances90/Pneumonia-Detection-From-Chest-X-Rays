{
 "cells": [
  {
   "cell_type": "code",
   "execution_count": 1,
   "metadata": {},
   "outputs": [],
   "source": [
    "import pydicom as py\n",
    "import os\n",
    "import tensorflow as tf\n",
    "import tensorflow_hub as hub\n",
    "import glob\n",
    "import numpy as np"
   ]
  },
  {
   "cell_type": "code",
   "execution_count": 2,
   "metadata": {},
   "outputs": [],
   "source": [
    "dicom_dir = './data/DICOM'\n",
    "\n",
    "dicom_file_paths = glob.glob('{}/*.dcm'.format(dicom_dir))"
   ]
  },
  {
   "cell_type": "code",
   "execution_count": 3,
   "metadata": {},
   "outputs": [],
   "source": [
    "key_fields = [\n",
    "    'Modality', 'PatientAge', 'PatientID', \n",
    "    'PatientPosition', 'PatientSex', \n",
    "    'PixelData', 'StudyDescription', 'BodyPartExamined'\n",
    "]"
   ]
  },
  {
   "cell_type": "code",
   "execution_count": 4,
   "metadata": {},
   "outputs": [],
   "source": [
    "def check_dicom(filepath):\n",
    "    \n",
    "    splitted = filepath.split('/')\n",
    "    \n",
    "    filename = splitted[len(splitted)-1]\n",
    "    \n",
    "    print('Load file {} ...'.format(filename))\n",
    "    \n",
    "    try:\n",
    "        \n",
    "        dcm_data = py.dcmread(filepath)\n",
    "    \n",
    "    except:\n",
    "        \n",
    "        print('File {} is not a valid DICOM file'.format(filename))\n",
    "        \n",
    "        return None\n",
    "    \n",
    "    else:\n",
    "        \n",
    "        dcm_keys = dcm_data.dir()\n",
    "\n",
    "        contains_all_fields =  all(item in dcm_keys for item in key_fields)\n",
    "\n",
    "        if not contains_all_fields:\n",
    "\n",
    "            print('File {} does not contain all required fields'.format(filename))\n",
    "\n",
    "            return None\n",
    "\n",
    "        info_dict = {field: dcm_data[field].value for field in key_fields}\n",
    "\n",
    "        if info_dict['Modality'] != 'DX':\n",
    "\n",
    "            print('The modality of File {} is not Digital Radiography(DX) - {}'.format(filename, info_dict['Modality']))\n",
    "\n",
    "            return None\n",
    "\n",
    "        if info_dict['PatientPosition'] != 'AP' and info_dict['PatientPosition'] != 'PA':\n",
    "\n",
    "            print('The view position of File {} is not valid - {}'.format(filename, info_dict['PatientPosition']))\n",
    "\n",
    "            return None\n",
    "\n",
    "        if info_dict['BodyPartExamined'] != 'CHEST':\n",
    "\n",
    "            print('The body part examined of File {} is not CHEST - {}'.format(filename, info_dict['BodyPartExamined']))\n",
    "\n",
    "            return None\n",
    "\n",
    "        return dcm_data.pixel_array\n",
    "    "
   ]
  },
  {
   "cell_type": "code",
   "execution_count": 5,
   "metadata": {},
   "outputs": [
    {
     "name": "stdout",
     "output_type": "stream",
     "text": [
      "Load file test4.dcm ...\n",
      "The body part examined of File test4.dcm is not CHEST - RIBCAGE\n",
      "Load file test5.dcm ...\n",
      "The modality of File test5.dcm is not Digital Radiography(DX) - CT\n",
      "Load file test6.dcm ...\n",
      "The view position of File test6.dcm is not valid - XX\n",
      "Load file test2.dcm ...\n",
      "(1024, 1024)\n",
      "Load file test3.dcm ...\n",
      "(1024, 1024)\n",
      "Load file test1.dcm ...\n",
      "(1024, 1024)\n"
     ]
    }
   ],
   "source": [
    "for filepath in dicom_file_paths:\n",
    "    \n",
    "    np_img = check_dicom(filepath)\n",
    "    \n",
    "    if np_img is None:\n",
    "        continue\n",
    "        \n",
    "    print(np_img.shape)"
   ]
  },
  {
   "cell_type": "code",
   "execution_count": null,
   "metadata": {},
   "outputs": [],
   "source": []
  }
 ],
 "metadata": {
  "kernelspec": {
   "display_name": "Python 3",
   "language": "python",
   "name": "python3"
  },
  "language_info": {
   "codemirror_mode": {
    "name": "ipython",
    "version": 3
   },
   "file_extension": ".py",
   "mimetype": "text/x-python",
   "name": "python",
   "nbconvert_exporter": "python",
   "pygments_lexer": "ipython3",
   "version": "3.8.3"
  }
 },
 "nbformat": 4,
 "nbformat_minor": 4
}
