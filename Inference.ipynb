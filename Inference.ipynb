{
 "cells": [
  {
   "cell_type": "code",
   "execution_count": 1,
   "metadata": {},
   "outputs": [],
   "source": [
    "import pydicom as py\n",
    "import os\n",
    "import tensorflow as tf\n",
    "import tensorflow_hub as hub\n",
    "import glob\n",
    "import numpy as np\n",
    "import matplotlib.pyplot as plt\n",
    "import cv2\n",
    "\n",
    "import eval_utils_nih as eu"
   ]
  },
  {
   "cell_type": "code",
   "execution_count": 2,
   "metadata": {},
   "outputs": [],
   "source": [
    "dicom_dir = './data/DICOM'\n",
    "\n",
    "dicom_file_paths = glob.glob('{}/*.dcm'.format(dicom_dir))"
   ]
  },
  {
   "cell_type": "code",
   "execution_count": 3,
   "metadata": {},
   "outputs": [],
   "source": [
    "model_dir = '.'\n",
    "\n",
    "model_filename = 'model-2.h5'\n",
    "\n",
    "model = eu.load_model(model_dir, model_filename)"
   ]
  },
  {
   "cell_type": "code",
   "execution_count": 4,
   "metadata": {},
   "outputs": [],
   "source": [
    "key_fields = [\n",
    "    'Modality', 'PatientAge', 'PatientID', \n",
    "    'PatientPosition', 'PatientSex', \n",
    "    'PixelData', 'StudyDescription', 'BodyPartExamined',\n",
    "]"
   ]
  },
  {
   "cell_type": "code",
   "execution_count": 5,
   "metadata": {},
   "outputs": [],
   "source": [
    "classes = ['NORMAL', 'PNEUMONIA']\n",
    "\n",
    "ERROR_OUTPUT = (None, None)"
   ]
  },
  {
   "cell_type": "code",
   "execution_count": 6,
   "metadata": {},
   "outputs": [],
   "source": [
    "def check_dicom(filepath):\n",
    "    \n",
    "    splitted = filepath.split('/')\n",
    "    \n",
    "    filename = splitted[len(splitted)-1]\n",
    "    \n",
    "    print('Load file {} ...'.format(filename))\n",
    "    \n",
    "    try:\n",
    "        \n",
    "        dcm_data = py.dcmread(filepath)\n",
    "    \n",
    "    except:\n",
    "        \n",
    "        print('File {} is not a valid DICOM file'.format(filename))\n",
    "        \n",
    "        return ERROR_OUTPUT\n",
    "    \n",
    "    else:\n",
    "        \n",
    "        dcm_keys = dcm_data.dir()\n",
    "\n",
    "        contains_all_fields =  all(item in dcm_keys for item in key_fields)\n",
    "\n",
    "        if not contains_all_fields:\n",
    "\n",
    "            print('File {} does not contain all required fields'.format(filename))\n",
    "\n",
    "            return ERROR_OUTPUT\n",
    "\n",
    "        info_dict = {field: dcm_data[field].value for field in key_fields}\n",
    "\n",
    "        if info_dict['Modality'] != 'DX':\n",
    "\n",
    "            print('The modality of File {} is not Digital Radiography(DX) - {}'.format(filename, info_dict['Modality']))\n",
    "\n",
    "            return ERROR_OUTPUT\n",
    "\n",
    "        if info_dict['PatientPosition'] != 'AP' and info_dict['PatientPosition'] != 'PA':\n",
    "\n",
    "            print('The view position of File {} is not valid - {}'.format(filename, info_dict['PatientPosition']))\n",
    "\n",
    "            return ERROR_OUTPUT\n",
    "\n",
    "        if info_dict['BodyPartExamined'] != 'CHEST':\n",
    "\n",
    "            print('The body part examined of File {} is not CHEST - {}'.format(filename, info_dict['BodyPartExamined']))\n",
    "\n",
    "            return ERROR_OUTPUT\n",
    "        \n",
    "        study_description = info_dict['StudyDescription']\n",
    "\n",
    "        return study_description, dcm_data.pixel_array\n",
    "    "
   ]
  },
  {
   "cell_type": "code",
   "execution_count": 7,
   "metadata": {},
   "outputs": [],
   "source": [
    "def preprocess_image(np_img, img_size):\n",
    "    \n",
    "    np_img = cv2.cvtColor(np_img, cv2.COLOR_BGR2RGB)\n",
    "    \n",
    "    image_tensor = tf.image.convert_image_dtype(np_img, dtype=tf.float32)\n",
    "    \n",
    "    np_image = tf.image.resize(image_tensor, size=img_size).numpy()\n",
    "    \n",
    "    image = tf.expand_dims(np_image, 0)\n",
    "    \n",
    "    return image"
   ]
  },
  {
   "cell_type": "code",
   "execution_count": 8,
   "metadata": {},
   "outputs": [],
   "source": [
    "def predict_image(model, image, thresh):\n",
    "    \n",
    "    pred = model.predict(image)\n",
    "    \n",
    "    return classes[int(pred > thresh)]"
   ]
  },
  {
   "cell_type": "code",
   "execution_count": 9,
   "metadata": {},
   "outputs": [
    {
     "name": "stdout",
     "output_type": "stream",
     "text": [
      "Load file test4.dcm ...\n",
      "The body part examined of File test4.dcm is not CHEST - RIBCAGE\n",
      "Load file test5.dcm ...\n",
      "The modality of File test5.dcm is not Digital Radiography(DX) - CT\n",
      "Load file test6.dcm ...\n",
      "The view position of File test6.dcm is not valid - XX\n",
      "Load file test2.dcm ...\n",
      "Study Description: Cardiomegaly, Prediction: NORMAL\n",
      "Load file test3.dcm ...\n",
      "Study Description: Effusion, Prediction: PNEUMONIA\n",
      "Load file test1.dcm ...\n",
      "Study Description: No Finding, Prediction: NORMAL\n"
     ]
    }
   ],
   "source": [
    "THRESH = 0.5\n",
    "IMG_SIZE = [224, 224]\n",
    "\n",
    "for filepath in dicom_file_paths:\n",
    "    \n",
    "    study_description, np_img = check_dicom(filepath)\n",
    "    \n",
    "    if np_img is None:\n",
    "        continue\n",
    "        \n",
    "    processed_image_tensor = preprocess_image(np_img, IMG_SIZE)\n",
    "    \n",
    "    prediction = predict_image(model, processed_image_tensor, THRESH)\n",
    "    \n",
    "    print('Study Description: {}, Prediction: {}'.format(study_description, prediction))"
   ]
  },
  {
   "cell_type": "code",
   "execution_count": null,
   "metadata": {},
   "outputs": [],
   "source": []
  }
 ],
 "metadata": {
  "kernelspec": {
   "display_name": "Python 3",
   "language": "python",
   "name": "python3"
  },
  "language_info": {
   "codemirror_mode": {
    "name": "ipython",
    "version": 3
   },
   "file_extension": ".py",
   "mimetype": "text/x-python",
   "name": "python",
   "nbconvert_exporter": "python",
   "pygments_lexer": "ipython3",
   "version": "3.7.7"
  }
 },
 "nbformat": 4,
 "nbformat_minor": 4
}
