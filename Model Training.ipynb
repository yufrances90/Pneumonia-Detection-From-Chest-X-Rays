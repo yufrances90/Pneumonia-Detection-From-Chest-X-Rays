{
 "cells": [
  {
   "cell_type": "code",
   "execution_count": 1,
   "metadata": {
    "_cell_guid": "b1076dfc-b9ad-4769-8c92-a6c4dae69d19",
    "_uuid": "8f2839f25d086af736a60e9eeb907d3b93b6e0e5",
    "scrolled": true
   },
   "outputs": [],
   "source": [
    "import numpy as np # linear algebra\n",
    "import pandas as pd # data processing, CSV file I/O (e.g. pd.read_csv)\n",
    "import os\n",
    "import matplotlib.pyplot as plt\n",
    "import tensorflow as tf\n",
    "import tensorflow_hub as hub\n",
    "\n",
    "from keras_preprocessing.image import ImageDataGenerator\n",
    "from keras.utils.vis_utils import plot_model"
   ]
  },
  {
   "cell_type": "code",
   "execution_count": 2,
   "metadata": {
    "scrolled": true
   },
   "outputs": [],
   "source": [
    "input_dir = '/kaggle/input'\n",
    "\n",
    "sample_dir = os.path.join(input_dir, 'sample/')\n",
    "csv_dir = os.path.join(input_dir, 'nihsample')\n",
    "images_dir = os.path.join(sample_dir, 'sample/sample/images')"
   ]
  },
  {
   "cell_type": "code",
   "execution_count": 3,
   "metadata": {
    "scrolled": true
   },
   "outputs": [],
   "source": [
    "training_file = os.path.join(csv_dir, 'train_data.csv')\n",
    "testing_file = os.path.join(csv_dir, 'test_data.csv')"
   ]
  },
  {
   "cell_type": "code",
   "execution_count": 4,
   "metadata": {
    "scrolled": true
   },
   "outputs": [],
   "source": [
    "training_df = pd.read_csv(training_file, index_col=0)\n",
    "testing_df = pd.read_csv(testing_file, index_col=0)"
   ]
  },
  {
   "cell_type": "code",
   "execution_count": 5,
   "metadata": {
    "scrolled": true
   },
   "outputs": [],
   "source": [
    "training_df['pneumonia'] = training_df['pneumonia'].astype(str)\n",
    "testing_df['pneumonia'] = testing_df['pneumonia'].astype(str)"
   ]
  },
  {
   "cell_type": "code",
   "execution_count": 6,
   "metadata": {
    "scrolled": true
   },
   "outputs": [],
   "source": [
    "di = {'0': \"NORMAL\", '1': \"PNEUMONIA\"}\n",
    "\n",
    "training_df['pneumonia'].replace(di, inplace=True)\n",
    "testing_df['pneumonia'].replace(di, inplace=True)"
   ]
  },
  {
   "cell_type": "code",
   "execution_count": 7,
   "metadata": {
    "scrolled": true
   },
   "outputs": [],
   "source": [
    "batch_size = 64\n",
    "image_size = (224, 224)"
   ]
  },
  {
   "cell_type": "code",
   "execution_count": 8,
   "metadata": {
    "scrolled": true
   },
   "outputs": [],
   "source": [
    "train_datagen = ImageDataGenerator(\n",
    "    rescale=1./255.,  \n",
    "    horizontal_flip = True, \n",
    "    vertical_flip = False, \n",
    "    height_shift_range= 0.1, \n",
    "    width_shift_range=0.1, \n",
    "    rotation_range=30,\n",
    "    shear_range = 0.1,\n",
    "    zoom_range=0.2,\n",
    "    validation_split=0.2\n",
    ")\n",
    "\n",
    "test_datagen = ImageDataGenerator(rescale=1./255.)"
   ]
  },
  {
   "cell_type": "code",
   "execution_count": 9,
   "metadata": {
    "scrolled": true
   },
   "outputs": [
    {
     "name": "stdout",
     "output_type": "stream",
     "text": [
      "Found 3588 validated image filenames belonging to 2 classes.\n",
      "Found 897 validated image filenames belonging to 2 classes.\n",
      "Found 1121 validated image filenames belonging to 2 classes.\n"
     ]
    }
   ],
   "source": [
    "train_generator=train_datagen.flow_from_dataframe(\n",
    "    dataframe=training_df,\n",
    "    directory=images_dir,\n",
    "    x_col=\"image_index\",\n",
    "    y_col='pneumonia', \n",
    "    batch_size=batch_size,\n",
    "    seed=42,\n",
    "    shuffle=True,\n",
    "    class_mode='categorical',\n",
    "    target_size=image_size,\n",
    "    subset='training',\n",
    "    color_mode='rgb', \n",
    "    classes=['NORMAL', 'PNEUMONIA']\n",
    ")\n",
    "\n",
    "valid_generator=train_datagen.flow_from_dataframe(\n",
    "    dataframe=training_df,\n",
    "    directory=images_dir,\n",
    "    x_col=\"image_index\",\n",
    "    y_col='pneumonia', \n",
    "    batch_size=batch_size,\n",
    "    seed=42,\n",
    "    shuffle=False,\n",
    "    class_mode='categorical',\n",
    "    target_size=image_size,\n",
    "    subset='validation',\n",
    "    color_mode='rgb', \n",
    "    classes=['NORMAL', 'PNEUMONIA']\n",
    ")\n",
    "\n",
    "test_generator=test_datagen.flow_from_dataframe(\n",
    "    dataframe=testing_df,\n",
    "    directory=images_dir,\n",
    "    x_col=\"image_index\",\n",
    "    y_col='pneumonia',\n",
    "    batch_size=batch_size,\n",
    "    seed=42,\n",
    "    shuffle=False,\n",
    "    class_mode='categorical',\n",
    "    target_size=image_size,\n",
    "    color_mode='rgb', \n",
    "    classes=['NORMAL', 'PNEUMONIA']\n",
    ")"
   ]
  },
  {
   "cell_type": "code",
   "execution_count": 10,
   "metadata": {
    "scrolled": true
   },
   "outputs": [],
   "source": [
    "num_classes = 2"
   ]
  },
  {
   "cell_type": "code",
   "execution_count": 11,
   "metadata": {
    "scrolled": true
   },
   "outputs": [],
   "source": [
    "URL = \"https://tfhub.dev/google/imagenet/resnet_v2_50/feature_vector/4\"\n",
    "\n",
    "IMG_WIDTH, IMG_HEIGHT = image_size\n",
    "\n",
    "feature_extractor = hub.KerasLayer(URL, input_shape=(IMG_WIDTH, IMG_HEIGHT, 3))\n",
    "\n",
    "feature_extractor.trainable = False"
   ]
  },
  {
   "cell_type": "code",
   "execution_count": 12,
   "metadata": {
    "scrolled": true
   },
   "outputs": [
    {
     "name": "stdout",
     "output_type": "stream",
     "text": [
      "Model: \"sequential\"\n",
      "_________________________________________________________________\n",
      "Layer (type)                 Output Shape              Param #   \n",
      "=================================================================\n",
      "keras_layer (KerasLayer)     (None, 2048)              23564800  \n",
      "_________________________________________________________________\n",
      "dropout (Dropout)            (None, 2048)              0         \n",
      "_________________________________________________________________\n",
      "dense (Dense)                (None, 2156)              4417644   \n",
      "_________________________________________________________________\n",
      "dropout_1 (Dropout)          (None, 2156)              0         \n",
      "_________________________________________________________________\n",
      "dense_1 (Dense)              (None, 1280)              2760960   \n",
      "_________________________________________________________________\n",
      "dropout_2 (Dropout)          (None, 1280)              0         \n",
      "_________________________________________________________________\n",
      "dense_2 (Dense)              (None, 540)               691740    \n",
      "_________________________________________________________________\n",
      "dropout_3 (Dropout)          (None, 540)               0         \n",
      "_________________________________________________________________\n",
      "dense_3 (Dense)              (None, 2)                 1082      \n",
      "=================================================================\n",
      "Total params: 31,436,226\n",
      "Trainable params: 7,871,426\n",
      "Non-trainable params: 23,564,800\n",
      "_________________________________________________________________\n"
     ]
    }
   ],
   "source": [
    "model = tf.keras.Sequential([\n",
    "        feature_extractor,\n",
    "        tf.keras.layers.Dropout(0.2),\n",
    "        tf.keras.layers.Dense(2156, activation = 'relu'),\n",
    "        tf.keras.layers.Dropout(0.3),\n",
    "        tf.keras.layers.Dense(1280, activation = 'relu'),\n",
    "        tf.keras.layers.Dropout(0.4),\n",
    "        tf.keras.layers.Dense(540, activation = 'relu'),\n",
    "        tf.keras.layers.Dropout(0.5),\n",
    "        tf.keras.layers.Dense(num_classes, activation = 'softmax')\n",
    "])\n",
    "\n",
    "model.summary()"
   ]
  },
  {
   "cell_type": "code",
   "execution_count": 13,
   "metadata": {
    "scrolled": true
   },
   "outputs": [],
   "source": [
    "model.compile(optimizer='adam',\n",
    "              loss='binary_crossentropy',\n",
    "              metrics=['accuracy'])"
   ]
  },
  {
   "cell_type": "code",
   "execution_count": 14,
   "metadata": {
    "scrolled": true
   },
   "outputs": [
    {
     "name": "stdout",
     "output_type": "stream",
     "text": [
      "18/18 [==============================] - 20s 1s/step - loss: 0.9580 - accuracy: 0.4853\n",
      "\n",
      "Loss before training: 0.958\n",
      "Accuracy before training: 48.528%\n"
     ]
    }
   ],
   "source": [
    "loss, accuracy = model.evaluate(test_generator)\n",
    "\n",
    "print('\\nLoss before training: {:,.3f}'.format(loss))\n",
    "print('Accuracy before training: {:.3%}'.format(accuracy))"
   ]
  },
  {
   "cell_type": "code",
   "execution_count": 15,
   "metadata": {
    "scrolled": true
   },
   "outputs": [
    {
     "name": "stdout",
     "output_type": "stream",
     "text": [
      "Epoch 1/100\n",
      "57/57 [==============================] - 140s 2s/step - loss: 0.9397 - accuracy: 0.5438 - val_loss: 0.6162 - val_accuracy: 0.6800\n",
      "Epoch 2/100\n",
      "57/57 [==============================] - 131s 2s/step - loss: 0.6343 - accuracy: 0.6502 - val_loss: 0.5718 - val_accuracy: 0.7469\n",
      "Epoch 3/100\n",
      "57/57 [==============================] - 131s 2s/step - loss: 0.5840 - accuracy: 0.6870 - val_loss: 0.5340 - val_accuracy: 0.7469\n",
      "Epoch 4/100\n",
      "57/57 [==============================] - 132s 2s/step - loss: 0.5319 - accuracy: 0.7341 - val_loss: 0.4807 - val_accuracy: 0.8038\n",
      "Epoch 5/100\n",
      "57/57 [==============================] - 131s 2s/step - loss: 0.4747 - accuracy: 0.7768 - val_loss: 0.4021 - val_accuracy: 0.8071\n",
      "Epoch 6/100\n",
      "57/57 [==============================] - 131s 2s/step - loss: 0.4457 - accuracy: 0.7929 - val_loss: 0.3734 - val_accuracy: 0.8372\n",
      "Epoch 7/100\n",
      "57/57 [==============================] - 131s 2s/step - loss: 0.4288 - accuracy: 0.7979 - val_loss: 0.3678 - val_accuracy: 0.8138\n",
      "Epoch 8/100\n",
      "57/57 [==============================] - 134s 2s/step - loss: 0.3842 - accuracy: 0.8236 - val_loss: 0.3175 - val_accuracy: 0.8662\n",
      "Epoch 9/100\n",
      "57/57 [==============================] - 133s 2s/step - loss: 0.3464 - accuracy: 0.8517 - val_loss: 0.3049 - val_accuracy: 0.8707\n",
      "Epoch 10/100\n",
      "57/57 [==============================] - 130s 2s/step - loss: 0.3351 - accuracy: 0.8537 - val_loss: 0.2488 - val_accuracy: 0.8941\n",
      "Epoch 11/100\n",
      "57/57 [==============================] - 130s 2s/step - loss: 0.3245 - accuracy: 0.8598 - val_loss: 0.3757 - val_accuracy: 0.8004\n",
      "Epoch 12/100\n",
      "57/57 [==============================] - 132s 2s/step - loss: 0.3382 - accuracy: 0.8514 - val_loss: 0.2222 - val_accuracy: 0.9097\n",
      "Epoch 13/100\n",
      "57/57 [==============================] - 136s 2s/step - loss: 0.2902 - accuracy: 0.8751 - val_loss: 0.1961 - val_accuracy: 0.9275\n",
      "Epoch 14/100\n",
      "57/57 [==============================] - 132s 2s/step - loss: 0.2770 - accuracy: 0.8843 - val_loss: 0.2224 - val_accuracy: 0.9153\n",
      "Epoch 15/100\n",
      "57/57 [==============================] - 132s 2s/step - loss: 0.2427 - accuracy: 0.9016 - val_loss: 0.1506 - val_accuracy: 0.9465\n",
      "Epoch 16/100\n",
      "57/57 [==============================] - 132s 2s/step - loss: 0.2208 - accuracy: 0.9111 - val_loss: 0.1489 - val_accuracy: 0.9454\n",
      "Epoch 17/100\n",
      "57/57 [==============================] - 132s 2s/step - loss: 0.2300 - accuracy: 0.9100 - val_loss: 0.1548 - val_accuracy: 0.9387\n",
      "Epoch 18/100\n",
      "57/57 [==============================] - 130s 2s/step - loss: 0.2226 - accuracy: 0.9091 - val_loss: 0.1579 - val_accuracy: 0.9409\n",
      "Epoch 19/100\n",
      "57/57 [==============================] - 129s 2s/step - loss: 0.2210 - accuracy: 0.9139 - val_loss: 0.1331 - val_accuracy: 0.9543\n",
      "Epoch 20/100\n",
      "57/57 [==============================] - 130s 2s/step - loss: 0.2399 - accuracy: 0.9075 - val_loss: 0.1318 - val_accuracy: 0.9521\n",
      "Epoch 21/100\n",
      "57/57 [==============================] - 127s 2s/step - loss: 0.1939 - accuracy: 0.9236 - val_loss: 0.1414 - val_accuracy: 0.9532\n",
      "Epoch 22/100\n",
      "57/57 [==============================] - 128s 2s/step - loss: 0.1957 - accuracy: 0.9225 - val_loss: 0.1193 - val_accuracy: 0.9643\n",
      "Epoch 23/100\n",
      "57/57 [==============================] - 126s 2s/step - loss: 0.1840 - accuracy: 0.9250 - val_loss: 0.1459 - val_accuracy: 0.9599\n",
      "Epoch 24/100\n",
      "57/57 [==============================] - 124s 2s/step - loss: 0.1874 - accuracy: 0.9250 - val_loss: 0.1158 - val_accuracy: 0.9588\n",
      "Epoch 25/100\n",
      "57/57 [==============================] - 126s 2s/step - loss: 0.1616 - accuracy: 0.9356 - val_loss: 0.0889 - val_accuracy: 0.9666\n",
      "Epoch 26/100\n",
      "57/57 [==============================] - 125s 2s/step - loss: 0.1579 - accuracy: 0.9409 - val_loss: 0.1015 - val_accuracy: 0.9588\n",
      "Epoch 27/100\n",
      "57/57 [==============================] - 124s 2s/step - loss: 0.1596 - accuracy: 0.9409 - val_loss: 0.0740 - val_accuracy: 0.9744\n",
      "Epoch 28/100\n",
      "57/57 [==============================] - 125s 2s/step - loss: 0.1598 - accuracy: 0.9404 - val_loss: 0.1010 - val_accuracy: 0.9677\n",
      "Epoch 29/100\n",
      "57/57 [==============================] - 124s 2s/step - loss: 0.1528 - accuracy: 0.9398 - val_loss: 0.0901 - val_accuracy: 0.9699\n",
      "Epoch 30/100\n",
      "57/57 [==============================] - 125s 2s/step - loss: 0.1454 - accuracy: 0.9445 - val_loss: 0.0777 - val_accuracy: 0.9721\n",
      "Epoch 31/100\n",
      "57/57 [==============================] - 125s 2s/step - loss: 0.1459 - accuracy: 0.9423 - val_loss: 0.0706 - val_accuracy: 0.9688\n",
      "Epoch 32/100\n",
      "57/57 [==============================] - 124s 2s/step - loss: 0.1445 - accuracy: 0.9487 - val_loss: 0.1082 - val_accuracy: 0.9666\n",
      "Epoch 33/100\n",
      "57/57 [==============================] - 123s 2s/step - loss: 0.1499 - accuracy: 0.9331 - val_loss: 0.1009 - val_accuracy: 0.9576\n",
      "Epoch 34/100\n",
      "57/57 [==============================] - 123s 2s/step - loss: 0.1323 - accuracy: 0.9484 - val_loss: 0.0916 - val_accuracy: 0.9621\n",
      "Epoch 35/100\n",
      "57/57 [==============================] - 123s 2s/step - loss: 0.1325 - accuracy: 0.9532 - val_loss: 0.0744 - val_accuracy: 0.9732\n",
      "Epoch 36/100\n",
      "57/57 [==============================] - 124s 2s/step - loss: 0.1276 - accuracy: 0.9490 - val_loss: 0.0662 - val_accuracy: 0.9788\n",
      "Epoch 37/100\n",
      "57/57 [==============================] - 124s 2s/step - loss: 0.1097 - accuracy: 0.9599 - val_loss: 0.0545 - val_accuracy: 0.9833\n",
      "Epoch 38/100\n",
      "57/57 [==============================] - 123s 2s/step - loss: 0.1310 - accuracy: 0.9523 - val_loss: 0.0638 - val_accuracy: 0.9777\n",
      "Epoch 39/100\n",
      "57/57 [==============================] - 123s 2s/step - loss: 0.1226 - accuracy: 0.9529 - val_loss: 0.0698 - val_accuracy: 0.9799\n",
      "Epoch 40/100\n",
      "57/57 [==============================] - 123s 2s/step - loss: 0.1280 - accuracy: 0.9554 - val_loss: 0.0690 - val_accuracy: 0.9788\n",
      "Epoch 41/100\n",
      "57/57 [==============================] - 123s 2s/step - loss: 0.1130 - accuracy: 0.9596 - val_loss: 0.0660 - val_accuracy: 0.9777\n",
      "Epoch 42/100\n",
      "57/57 [==============================] - 123s 2s/step - loss: 0.1296 - accuracy: 0.9532 - val_loss: 0.0654 - val_accuracy: 0.9755\n"
     ]
    }
   ],
   "source": [
    "EPOCHS = 100\n",
    "\n",
    "model_file = os.path.join('model.h5')\n",
    "\n",
    "early_stopping = tf.keras.callbacks.EarlyStopping(\n",
    "                    monitor='val_loss', \n",
    "                    patience=5,\n",
    "                    restore_best_weights=True\n",
    "                 )\n",
    "\n",
    "save_best = tf.keras.callbacks.ModelCheckpoint(\n",
    "                model_file, \n",
    "                monitor='val_accuracy', \n",
    "                save_best_only=True\n",
    "            )\n",
    "\n",
    "history = model.fit(\n",
    "    train_generator, \n",
    "    epochs = EPOCHS, \n",
    "    validation_data=valid_generator, \n",
    "    callbacks=[early_stopping, save_best]\n",
    ")"
   ]
  },
  {
   "cell_type": "code",
   "execution_count": 16,
   "metadata": {},
   "outputs": [
    {
     "name": "stdout",
     "output_type": "stream",
     "text": [
      "18/18 [==============================] - 19s 1s/step - loss: 0.0326 - accuracy: 0.9857\n",
      "\n",
      "Loss after training: 0.033\n",
      "Accuracy after training: 98.573%\n"
     ]
    }
   ],
   "source": [
    "loss, accuracy = model.evaluate(test_generator)\n",
    "\n",
    "print('\\nLoss after training: {:,.3f}'.format(loss))\n",
    "print('Accuracy after training: {:.3%}'.format(accuracy))"
   ]
  },
  {
   "cell_type": "code",
   "execution_count": 17,
   "metadata": {},
   "outputs": [
    {
     "data": {
      "image/png": "[encoded data removed]",
      "text/plain": [
       "<Figure size 1440x720 with 2 Axes>"
      ]
     },
     "metadata": {
      "needs_background": "light"
     },
     "output_type": "display_data"
    }
   ],
   "source": [
    "training_accuracy = history.history['accuracy']\n",
    "validation_accuracy = history.history['val_accuracy']\n",
    "\n",
    "training_loss = history.history['loss']\n",
    "validation_loss = history.history['val_loss']\n",
    "\n",
    "epochs_range=range(len(training_accuracy))\n",
    "\n",
    "plt.figure(figsize=(20, 10))\n",
    "plt.subplot(1, 2, 1)\n",
    "plt.plot(epochs_range, training_accuracy, label='Training Accuracy')\n",
    "plt.plot(epochs_range, validation_accuracy, label='Validation Accuracy')\n",
    "plt.legend(loc='lower right')\n",
    "plt.title('Training and Validation Accuracy')\n",
    "\n",
    "plt.subplot(1, 2, 2)\n",
    "plt.plot(epochs_range, training_loss, label='Training Loss')\n",
    "plt.plot(epochs_range, validation_loss, label='Validation Loss')\n",
    "plt.legend(loc='upper right')\n",
    "plt.title('Training and Validation Loss')\n",
    "plt.show()"
   ]
  },
  {
   "cell_type": "code",
   "execution_count": 18,
   "metadata": {},
   "outputs": [],
   "source": [
    "from sklearn.metrics import classification_report, confusion_matrix, roc_auc_score, roc_curve"
   ]
  },
  {
   "cell_type": "code",
   "execution_count": 19,
   "metadata": {},
   "outputs": [],
   "source": [
    "batch_size = 64\n",
    "num_of_test_samples = 1121"
   ]
  },
  {
   "cell_type": "code",
   "execution_count": 20,
   "metadata": {},
   "outputs": [
    {
     "name": "stdout",
     "output_type": "stream",
     "text": [
      "18/18 [==============================] - 18s 1s/step\n"
     ]
    }
   ],
   "source": [
    "Y_pred = model.predict_generator(test_generator, num_of_test_samples // batch_size+1, verbose = 1)\n",
    "y_pred = np.argmax(Y_pred, axis=1)"
   ]
  },
  {
   "cell_type": "code",
   "execution_count": 21,
   "metadata": {},
   "outputs": [
    {
     "name": "stdout",
     "output_type": "stream",
     "text": [
      "Confusion Matrix\n",
      "[[563  16]\n",
      " [  0 542]]\n"
     ]
    }
   ],
   "source": [
    "print('Confusion Matrix')\n",
    "print(confusion_matrix(test_generator.classes, y_pred, labels=[0, 1]))"
   ]
  },
  {
   "cell_type": "code",
   "execution_count": 22,
   "metadata": {},
   "outputs": [
    {
     "name": "stdout",
     "output_type": "stream",
     "text": [
      "Classification Report\n",
      "              precision    recall  f1-score   support\n",
      "\n",
      "      Normal       1.00      0.97      0.99       579\n",
      "   Pneumonia       0.97      1.00      0.99       542\n",
      "\n",
      "    accuracy                           0.99      1121\n",
      "   macro avg       0.99      0.99      0.99      1121\n",
      "weighted avg       0.99      0.99      0.99      1121\n",
      "\n"
     ]
    }
   ],
   "source": [
    "print('Classification Report')\n",
    "target_names = ['Normal', 'Pneumonia']\n",
    "print(classification_report(test_generator.classes, y_pred, target_names=target_names))"
   ]
  },
  {
   "cell_type": "code",
   "execution_count": 23,
   "metadata": {},
   "outputs": [
    {
     "data": {
      "text/plain": [
       "0.9861830742659758"
      ]
     },
     "execution_count": 23,
     "metadata": {},
     "output_type": "execute_result"
    }
   ],
   "source": [
    "roc_auc_score(test_generator.classes, y_pred)"
   ]
  },
  {
   "cell_type": "code",
   "execution_count": 24,
   "metadata": {},
   "outputs": [
    {
     "data": {
      "text/plain": [
       "(array([0.        , 0.02763385, 1.        ]),\n",
       " array([0., 1., 1.]),\n",
       " array([2, 1, 0]))"
      ]
     },
     "execution_count": 24,
     "metadata": {},
     "output_type": "execute_result"
    }
   ],
   "source": [
    "fpr, tpr, thresholds = roc_curve(test_generator.classes, y_pred, pos_label=1)\n",
    "\n",
    "fpr, tpr, thresholds "
   ]
  },
  {
   "cell_type": "code",
   "execution_count": null,
   "metadata": {},
   "outputs": [],
   "source": []
  }
 ],
 "metadata": {
  "kernelspec": {
   "display_name": "Python 3",
   "language": "python",
   "name": "python3"
  },
  "language_info": {
   "codemirror_mode": {
    "name": "ipython",
    "version": 3
   },
   "file_extension": ".py",
   "mimetype": "text/x-python",
   "name": "python",
   "nbconvert_exporter": "python",
   "pygments_lexer": "ipython3",
   "version": "3.8.3"
  }
 },
 "nbformat": 4,
 "nbformat_minor": 4
}
