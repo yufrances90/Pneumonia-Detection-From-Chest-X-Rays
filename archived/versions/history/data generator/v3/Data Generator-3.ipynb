{
 "cells": [
  {
   "cell_type": "code",
   "execution_count": 1,
   "metadata": {},
   "outputs": [],
   "source": [
    "import os\n",
    "import pandas as pd\n",
    "import matplotlib.pyplot as plt\n",
    "import numpy as np\n",
    "import seaborn as sns"
   ]
  },
  {
   "cell_type": "code",
   "execution_count": 2,
   "metadata": {},
   "outputs": [],
   "source": [
    "data_dir = './data/csv'\n",
    "\n",
    "data_entry_file = os.path.join(data_dir, 'Data_Entry_2017_v2020.csv')\n",
    "\n",
    "data_entry_df = pd.read_csv(data_entry_file)"
   ]
  },
  {
   "cell_type": "code",
   "execution_count": 3,
   "metadata": {},
   "outputs": [],
   "source": [
    "data_entry_df_copy = data_entry_df.copy()"
   ]
  },
  {
   "cell_type": "code",
   "execution_count": 4,
   "metadata": {},
   "outputs": [],
   "source": [
    "finding_labels_df = data_entry_df_copy['Finding Labels'].str.get_dummies(sep='|')\n",
    "\n",
    "data_entry_df_copy = pd.concat([data_entry_df_copy, finding_labels_df], 1)"
   ]
  },
  {
   "cell_type": "code",
   "execution_count": 5,
   "metadata": {},
   "outputs": [],
   "source": [
    "old_new_columns_map = {\n",
    "    'Image Index': 'image_index',\n",
    "    'Finding Labels': 'finding_labels',\n",
    "    'Follow-up #': 'follow_up_number',\n",
    "    'Patient ID': 'patient_id',\n",
    "    'Patient Age':'patient_age',\n",
    "    'Patient Gender': 'patient_gender',\n",
    "    'View Position': 'view_position',\n",
    "    'OriginalImage[Width': 'original_image_width',\n",
    "    'Height]': 'original_image_height',\n",
    "    'OriginalImagePixelSpacing[x': 'original_image_pixel_spacing_x',\n",
    "    'y]': 'original_image_pixel_spacing_y',\n",
    "    'Atelectasis': 'atelectasis',\n",
    "    'Cardiomegaly': 'cardiomegaly',\n",
    "    'Consolidation': 'consolidation',\n",
    "    'Edema': 'edema',\n",
    "    'Effusion': 'effusion',\n",
    "    'Emphysema': 'emphysema',\n",
    "    'Fibrosis': 'fibrosis',\n",
    "    'Hernia': 'hernia',\n",
    "    'Infiltration': 'infiltration',\n",
    "    'Mass': 'mass',\n",
    "    'No Finding': 'no_finding',\n",
    "    'Nodule': 'nodule',\n",
    "    'Pleural_Thickening': 'pleural_thickening',\n",
    "    'Pneumonia': 'pneumonia',\n",
    "    'Pneumothorax': 'pneumothorax'\n",
    "}\n",
    "\n",
    "data_entry_df_copy.rename(columns=old_new_columns_map, inplace=True)"
   ]
  },
  {
   "cell_type": "code",
   "execution_count": 6,
   "metadata": {},
   "outputs": [],
   "source": [
    "old_new_columns_map = {\n",
    "    'Atelectasis': 'atelectasis',\n",
    "    'Cardiomegaly': 'cardiomegaly',\n",
    "    'Consolidation': 'consolidation',\n",
    "    'Edema': 'edema',\n",
    "    'Effusion': 'effusion',\n",
    "    'Emphysema': 'emphysema',\n",
    "    'Fibrosis': 'fibrosis',\n",
    "    'Hernia': 'hernia',\n",
    "    'Infiltration': 'infiltration',\n",
    "    'Mass': 'mass',\n",
    "    'No Finding': 'no_finding',\n",
    "    'Nodule': 'nodule',\n",
    "    'Pleural_Thickening': 'pleural_thickening',\n",
    "    'Pneumonia': 'pneumonia',\n",
    "    'Pneumothorax': 'pneumothorax'\n",
    "}\n",
    "\n",
    "finding_labels_df.rename(columns=old_new_columns_map, inplace=True)"
   ]
  },
  {
   "cell_type": "code",
   "execution_count": 7,
   "metadata": {},
   "outputs": [],
   "source": [
    "sample_size = data_entry_df_copy.shape[0]\n",
    "\n",
    "pneumonia_cases = data_entry_df_copy.query('pneumonia == 1')\n",
    "nonpneumonia_cases = data_entry_df_copy.query('pneumonia == 0')\n",
    "\n",
    "num_pneumonia_cases = pneumonia_cases.shape[0]\n",
    "num_nonpneumonia_cases = nonpneumonia_cases.shape[0]\n",
    "\n",
    "pct_pneumonia_cases = num_pneumonia_cases / sample_size\n",
    "pct_nonpneumonia_cases = num_nonpneumonia_cases / sample_size"
   ]
  },
  {
   "cell_type": "code",
   "execution_count": 8,
   "metadata": {},
   "outputs": [
    {
     "name": "stdout",
     "output_type": "stream",
     "text": [
      "Total number of records: 112120\n",
      "Total number of Pneumonia cases: 1431\n",
      "Total number of non Pneumonia cases: 110689\n",
      "Percentage of Pneumonia: 0.01\n",
      "Percentage of non Pneumonia: 0.99\n"
     ]
    }
   ],
   "source": [
    "print('Total number of records: {}'.format(sample_size))\n",
    "\n",
    "print('Total number of Pneumonia cases: {}'.format(num_pneumonia_cases))\n",
    "print('Total number of non Pneumonia cases: {}'.format(num_nonpneumonia_cases))\n",
    "\n",
    "print('Percentage of Pneumonia: {:0.2f}'.format(pct_pneumonia_cases))\n",
    "print('Percentage of non Pneumonia: {:0.2f}'.format(pct_nonpneumonia_cases))"
   ]
  },
  {
   "cell_type": "markdown",
   "metadata": {},
   "source": [
    "---\n",
    "---\n",
    "---"
   ]
  },
  {
   "cell_type": "code",
   "execution_count": 9,
   "metadata": {},
   "outputs": [],
   "source": [
    "pneumonia_cases = pneumonia_cases.sample(frac=1).reset_index(drop=True)\n",
    "nonpneumonia_cases = nonpneumonia_cases.sample(frac=1).reset_index(drop=True)"
   ]
  },
  {
   "cell_type": "code",
   "execution_count": 10,
   "metadata": {},
   "outputs": [],
   "source": [
    "TARGET_SAMPLE_SIZE = 5606"
   ]
  },
  {
   "cell_type": "code",
   "execution_count": 11,
   "metadata": {},
   "outputs": [],
   "source": [
    "training_size = int(np.rint(TARGET_SAMPLE_SIZE * 0.8))\n",
    "testing_size = TARGET_SAMPLE_SIZE - training_size"
   ]
  },
  {
   "cell_type": "code",
   "execution_count": 12,
   "metadata": {},
   "outputs": [],
   "source": [
    "nonpneumonia_cases_sample_size = TARGET_SAMPLE_SIZE - num_pneumonia_cases\n",
    "\n",
    "nonpneumonia_cases_sample = nonpneumonia_cases.sample(nonpneumonia_cases_sample_size)"
   ]
  },
  {
   "cell_type": "markdown",
   "metadata": {},
   "source": [
    "---\n",
    "---"
   ]
  },
  {
   "cell_type": "code",
   "execution_count": 13,
   "metadata": {},
   "outputs": [],
   "source": [
    "pneumonia_in_training_size = int(np.rint(num_pneumonia_cases * 0.8))\n",
    "nonpneumonia_in_training_size = training_size - pneumonia_in_training_size"
   ]
  },
  {
   "cell_type": "code",
   "execution_count": 14,
   "metadata": {},
   "outputs": [],
   "source": [
    "pneumonia_in_training = pneumonia_cases.sample(pneumonia_in_training_size)\n",
    "nonpneumonia_in_training = nonpneumonia_cases_sample.sample(nonpneumonia_in_training_size)"
   ]
  },
  {
   "cell_type": "code",
   "execution_count": 15,
   "metadata": {},
   "outputs": [],
   "source": [
    "pneumonia_in_testing = pneumonia_cases[~pneumonia_cases.image_index.isin(pneumonia_in_training.image_index)]\n",
    "nonpneumonia_in_testing = nonpneumonia_cases_sample[~nonpneumonia_cases_sample.image_index.isin(nonpneumonia_in_training.image_index)\n",
    "                                            ]"
   ]
  },
  {
   "cell_type": "code",
   "execution_count": 16,
   "metadata": {},
   "outputs": [
    {
     "data": {
      "text/plain": [
       "((1145, 26), (3340, 26), (286, 26), (835, 26))"
      ]
     },
     "execution_count": 16,
     "metadata": {},
     "output_type": "execute_result"
    }
   ],
   "source": [
    "pneumonia_in_training.shape, nonpneumonia_in_training.shape, \\\n",
    "pneumonia_in_testing.shape, nonpneumonia_in_testing.shape"
   ]
  },
  {
   "cell_type": "code",
   "execution_count": 17,
   "metadata": {},
   "outputs": [],
   "source": [
    "training_df = pd.concat([pneumonia_in_training, nonpneumonia_in_training]).reset_index()\n",
    "testing_df = pd.concat([pneumonia_in_testing, nonpneumonia_in_testing]).reset_index()"
   ]
  },
  {
   "cell_type": "code",
   "execution_count": 18,
   "metadata": {},
   "outputs": [],
   "source": [
    "training_filepath = os.path.join(data_dir, \"train_data.csv\")\n",
    "training_df.to_csv (training_filepath, index = True, header = True)\n",
    "\n",
    "testing_filepath = os.path.join(data_dir, \"test_data.csv\")\n",
    "testing_df.to_csv (testing_filepath, index = True, header = True)"
   ]
  },
  {
   "cell_type": "code",
   "execution_count": null,
   "metadata": {},
   "outputs": [],
   "source": []
  }
 ],
 "metadata": {
  "kernelspec": {
   "display_name": "Python 3",
   "language": "python",
   "name": "python3"
  },
  "language_info": {
   "codemirror_mode": {
    "name": "ipython",
    "version": 3
   },
   "file_extension": ".py",
   "mimetype": "text/x-python",
   "name": "python",
   "nbconvert_exporter": "python",
   "pygments_lexer": "ipython3",
   "version": "3.8.3"
  }
 },
 "nbformat": 4,
 "nbformat_minor": 4
}
