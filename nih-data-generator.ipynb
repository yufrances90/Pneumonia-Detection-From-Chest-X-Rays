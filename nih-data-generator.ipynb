{
 "cells": [
  {
   "cell_type": "code",
   "execution_count": 1,
   "metadata": {
    "_cell_guid": "b1076dfc-b9ad-4769-8c92-a6c4dae69d19",
    "_uuid": "8f2839f25d086af736a60e9eeb907d3b93b6e0e5"
   },
   "outputs": [],
   "source": [
    "import os\n",
    "import pandas as pd\n",
    "import numpy as np\n",
    "import seaborn as sns\n",
    "import matplotlib.pyplot as plt\n",
    "import glob\n",
    "import shutil\n",
    "import tensorflow as tf\n",
    "\n",
    "from tqdm import tqdm\n",
    "from sklearn.utils import resample"
   ]
  },
  {
   "cell_type": "code",
   "execution_count": 2,
   "metadata": {},
   "outputs": [],
   "source": [
    "current_palette = sns.color_palette(\"colorblind\")\n",
    "\n",
    "sns.set_palette(current_palette)\n",
    "\n",
    "base_color=current_palette[0]"
   ]
  },
  {
   "cell_type": "code",
   "execution_count": 3,
   "metadata": {},
   "outputs": [],
   "source": [
    "nih_exploratory_data_analysis_dir = '../input/nih-exploratory-data-analysis'\n",
    "\n",
    "processed_data_entry_file = os.path.join(nih_exploratory_data_analysis_dir, 'processed_data_entry.csv')\n",
    "processed_sample_labels_file = os.path.join(nih_exploratory_data_analysis_dir, 'processed_sample_labels.csv')"
   ]
  },
  {
   "cell_type": "code",
   "execution_count": 4,
   "metadata": {},
   "outputs": [],
   "source": [
    "data_entry_df = pd.read_csv(processed_data_entry_file, index_col=0)\n",
    "sample_labels_df = pd.read_csv(processed_sample_labels_file, index_col=0)"
   ]
  },
  {
   "cell_type": "code",
   "execution_count": 5,
   "metadata": {},
   "outputs": [],
   "source": [
    "pneumonia_cases_in_sample = sample_labels_df.query('pneumonia==1')\n",
    "pneumonia_cases_in_full = data_entry_df.query('pneumonia==1')"
   ]
  },
  {
   "cell_type": "code",
   "execution_count": 6,
   "metadata": {},
   "outputs": [],
   "source": [
    "nonpneumonia_cases_in_sample = sample_labels_df.query('pneumonia==0')\n",
    "nonpneumonia_cases_in_full = data_entry_df.query('pneumonia==0')"
   ]
  },
  {
   "cell_type": "code",
   "execution_count": 7,
   "metadata": {},
   "outputs": [],
   "source": [
    "pneumonia_cases_not_in_sample = pneumonia_cases_in_full[\n",
    "    ~pneumonia_cases_in_full.image_index.isin(pneumonia_cases_in_sample.image_index)]\n",
    "nonpneumonia_cases_not_in_sample = nonpneumonia_cases_in_full[\n",
    "    ~nonpneumonia_cases_in_full.image_index.isin(nonpneumonia_cases_in_sample.image_index)]"
   ]
  },
  {
   "cell_type": "markdown",
   "execution_count": null,
   "metadata": {},
   "source": [
    "# Generate Training Set"
   ]
  },
  {
   "cell_type": "code",
   "execution_count": 8,
   "metadata": {},
   "outputs": [],
   "source": [
    "pneumonia_cases_in_training = pneumonia_cases_in_sample.copy()\n",
    "training_size = sample_labels_df.shape[0]"
   ]
  },
  {
   "cell_type": "code",
   "execution_count": 9,
   "metadata": {},
   "outputs": [],
   "source": [
    "pneumonia_size_in_training = int(np.rint(training_size / 2))\n",
    "nonpneumonia_size_in_training = pneumonia_size_in_training"
   ]
  },
  {
   "cell_type": "code",
   "execution_count": 10,
   "metadata": {},
   "outputs": [],
   "source": [
    "nonpneumonia_cases_in_sample = nonpneumonia_cases_in_sample.sample(frac=1).reset_index(drop=True)\n",
    "\n",
    "nonpneumonia_cases_in_training = nonpneumonia_cases_in_sample.sample(nonpneumonia_size_in_training)"
   ]
  },
  {
   "cell_type": "code",
   "execution_count": 11,
   "metadata": {},
   "outputs": [],
   "source": [
    "df_minority_upsampled = resample(pneumonia_cases_in_training, \n",
    "                                 replace=True,       # sample with replacement\n",
    "                                 n_samples=pneumonia_size_in_training,    # to match majority class\n",
    "                                 random_state=42)   "
   ]
  },
  {
   "cell_type": "code",
   "execution_count": 12,
   "metadata": {},
   "outputs": [],
   "source": [
    "df_majority_downsampled = resample(nonpneumonia_cases_in_training, \n",
    "                                 replace=False,    # sample without replacement\n",
    "                                 n_samples=nonpneumonia_size_in_training,     # to match minority class\n",
    "                                 random_state=42) "
   ]
  },
  {
   "cell_type": "code",
   "execution_count": 13,
   "metadata": {},
   "outputs": [],
   "source": [
    "df_train = pd.concat([df_majority_downsampled, df_minority_upsampled])\n",
    "\n",
    "df_train = df_train.sample(frac=1).reset_index(drop=True)"
   ]
  },
  {
   "cell_type": "code",
   "execution_count": 14,
   "metadata": {},
   "outputs": [
    {
     "data": {
      "image/png": "[encoded data removed]",
      "text/plain": [
       "<Figure size 432x288 with 1 Axes>"
      ]
     },
     "metadata": {
      "needs_background": "light"
     },
     "output_type": "display_data"
    }
   ],
   "source": [
    "sns.countplot(df_train['pneumonia'], color=base_color)\n",
    "\n",
    "plt.title('Distribution of Pneumonia-positive and Pneumonia-negative cases On Training Set')\n",
    "\n",
    "plt.show()"
   ]
  },
  {
   "cell_type": "code",
   "execution_count": 15,
   "metadata": {},
   "outputs": [],
   "source": [
    "training_data_filepath = os.path.join('.', \"train_data.csv\")\n",
    "df_train.to_csv (training_data_filepath, index = True, header = True)"
   ]
  },
  {
   "cell_type": "markdown",
   "execution_count": null,
   "metadata": {},
   "source": [
    "# Generate Validation Set"
   ]
  },
  {
   "cell_type": "code",
   "execution_count": 16,
   "metadata": {},
   "outputs": [],
   "source": [
    "validation_size = int(np.rint(df_train.shape[0] * 0.2))\n",
    "\n",
    "pneumonia_size_in_validation = int(np.rint(validation_size * 0.25))\n",
    "nonpneumonia_size_in_validation = validation_size - pneumonia_size_in_validation"
   ]
  },
  {
   "cell_type": "code",
   "execution_count": 17,
   "metadata": {},
   "outputs": [],
   "source": [
    "pneumonia_cases_not_in_sample = pneumonia_cases_not_in_sample.sample(frac=1).reset_index(drop=True)\n",
    "pneumonia_cases_in_validation = pneumonia_cases_not_in_sample.sample(pneumonia_size_in_validation)"
   ]
  },
  {
   "cell_type": "code",
   "execution_count": 18,
   "metadata": {},
   "outputs": [],
   "source": [
    "nonpneumonia_cases_not_in_sample = nonpneumonia_cases_not_in_sample.sample(frac=1).reset_index(drop=True)\n",
    "nonpneumonia_cases_in_validation = nonpneumonia_cases_not_in_sample.sample(nonpneumonia_size_in_validation)"
   ]
  },
  {
   "cell_type": "code",
   "execution_count": 19,
   "metadata": {},
   "outputs": [],
   "source": [
    "df_validation = pd.concat([pneumonia_cases_in_validation, nonpneumonia_cases_in_validation])\n",
    "\n",
    "df_validation = df_validation.sample(frac=1).reset_index(drop=True)"
   ]
  },
  {
   "cell_type": "code",
   "execution_count": 20,
   "metadata": {},
   "outputs": [
    {
     "data": {
      "image/png": "[encoded data removed]",
      "text/plain": [
       "<Figure size 432x288 with 1 Axes>"
      ]
     },
     "metadata": {
      "needs_background": "light"
     },
     "output_type": "display_data"
    }
   ],
   "source": [
    "sns.countplot(df_validation['pneumonia'], color=base_color)\n",
    "\n",
    "plt.title('Distribution of Pneumonia-positive and Pneumonia-negative cases On Validation Set')\n",
    "\n",
    "plt.show()"
   ]
  },
  {
   "cell_type": "code",
   "execution_count": 21,
   "metadata": {},
   "outputs": [],
   "source": [
    "validation_data_filepath = os.path.join('.', \"validation_data.csv\")\n",
    "df_validation.to_csv (validation_data_filepath, index = True, header = True)"
   ]
  },
  {
   "cell_type": "markdown",
   "execution_count": null,
   "metadata": {},
   "source": [
    "# Generate Testing Set"
   ]
  },
  {
   "cell_type": "code",
   "execution_count": 22,
   "metadata": {},
   "outputs": [
    {
     "data": {
      "text/plain": [
       "(5606, 1121)"
      ]
     },
     "execution_count": 22,
     "metadata": {},
     "output_type": "execute_result"
    }
   ],
   "source": [
    "training_size, validation_size"
   ]
  },
  {
   "cell_type": "code",
   "execution_count": 23,
   "metadata": {},
   "outputs": [],
   "source": [
    "remaining_pneumonia_cases = pneumonia_cases_not_in_sample[\n",
    "    ~pneumonia_cases_not_in_sample.image_index.isin(pneumonia_cases_in_validation.image_index)]\n",
    "remaining_nonpneumonia_cases = nonpneumonia_cases_not_in_sample[\n",
    "    ~nonpneumonia_cases_not_in_sample.image_index.isin(nonpneumonia_cases_in_validation.image_index)]"
   ]
  },
  {
   "cell_type": "code",
   "execution_count": 24,
   "metadata": {},
   "outputs": [],
   "source": [
    "pneumonia_cases_in_testing = remaining_pneumonia_cases.copy()"
   ]
  },
  {
   "cell_type": "code",
   "execution_count": 25,
   "metadata": {},
   "outputs": [],
   "source": [
    "nonpneumonia_size_in_testing = pneumonia_cases_in_testing.shape[0] * 4"
   ]
  },
  {
   "cell_type": "code",
   "execution_count": 26,
   "metadata": {},
   "outputs": [],
   "source": [
    "remaining_nonpneumonia_cases = remaining_nonpneumonia_cases.sample(frac=1).reset_index(drop=True)\n",
    "\n",
    "nonpneumonia_cases_in_testing = remaining_nonpneumonia_cases.sample(nonpneumonia_size_in_testing)"
   ]
  },
  {
   "cell_type": "code",
   "execution_count": 27,
   "metadata": {},
   "outputs": [],
   "source": [
    "df_testing = pd.concat([pneumonia_cases_in_testing, nonpneumonia_cases_in_testing])\n",
    "\n",
    "df_testing = df_testing.sample(frac=1).reset_index(drop=True)"
   ]
  },
  {
   "cell_type": "code",
   "execution_count": 28,
   "metadata": {},
   "outputs": [
    {
     "data": {
      "image/png": "[encoded data removed]",
      "text/plain": [
       "<Figure size 432x288 with 1 Axes>"
      ]
     },
     "metadata": {
      "needs_background": "light"
     },
     "output_type": "display_data"
    }
   ],
   "source": [
    "sns.countplot(df_testing['pneumonia'], color=base_color)\n",
    "\n",
    "plt.title('Distribution of Pneumonia-positive and Pneumonia-negative cases On Testing Set')\n",
    "\n",
    "plt.show()"
   ]
  },
  {
   "cell_type": "code",
   "execution_count": 29,
   "metadata": {},
   "outputs": [],
   "source": [
    "testing_data_filepath = os.path.join('.', \"testing_data.csv\")\n",
    "df_testing.to_csv (testing_data_filepath, index = True, header = True)"
   ]
  }
 ],
 "metadata": {
  "kernelspec": {
   "display_name": "Python 3",
   "language": "python",
   "name": "python3"
  },
  "language_info": {
   "codemirror_mode": {
    "name": "ipython",
    "version": 3
   },
   "file_extension": ".py",
   "mimetype": "text/x-python",
   "name": "python",
   "nbconvert_exporter": "python",
   "pygments_lexer": "ipython3",
   "version": "3.7.6"
  }
 },
 "nbformat": 4,
 "nbformat_minor": 4
}
