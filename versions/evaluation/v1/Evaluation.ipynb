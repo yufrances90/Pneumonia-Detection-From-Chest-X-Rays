{
  "nbformat": 4,
  "nbformat_minor": 0,
  "metadata": {
    "kernelspec": {
      "display_name": "Python 3",
      "language": "python",
      "name": "python3"
    },
    "language_info": {
      "codemirror_mode": {
        "name": "ipython",
        "version": 3
      },
      "file_extension": ".py",
      "mimetype": "text/x-python",
      "name": "python",
      "nbconvert_exporter": "python",
      "pygments_lexer": "ipython3",
      "version": "3.8.3"
    },
    "colab": {
      "name": "Evaluation.ipynb",
      "provenance": [],
      "collapsed_sections": [],
      "machine_shape": "hm"
    },
    "accelerator": "GPU"
  },
  "cells": [
    {
      "cell_type": "code",
      "metadata": {
        "id": "mMFJyQyze5TZ",
        "colab_type": "code",
        "colab": {
          "base_uri": "https://localhost:8080/",
          "height": 34
        },
        "outputId": "fbb5a5a8-09a4-4b78-b6b6-6c9c99e4f11a"
      },
      "source": [
        "!pip install pydicom"
      ],
      "execution_count": 1,
      "outputs": [
        {
          "output_type": "stream",
          "text": [
            "Requirement already satisfied: pydicom in /usr/local/lib/python3.6/dist-packages (2.0.0)\n"
          ],
          "name": "stdout"
        }
      ]
    },
    {
      "cell_type": "code",
      "metadata": {
        "id": "VVSp3IK0fMdM",
        "colab_type": "code",
        "colab": {
          "base_uri": "https://localhost:8080/",
          "height": 54
        },
        "outputId": "b64b80cb-531a-429f-82af-51faa75ec97d"
      },
      "source": [
        "from google.colab import drive\n",
        "drive.mount('/content/drive')"
      ],
      "execution_count": 2,
      "outputs": [
        {
          "output_type": "stream",
          "text": [
            "Drive already mounted at /content/drive; to attempt to forcibly remount, call drive.mount(\"/content/drive\", force_remount=True).\n"
          ],
          "name": "stdout"
        }
      ]
    },
    {
      "cell_type": "code",
      "metadata": {
        "id": "slfmRe4MeyPx",
        "colab_type": "code",
        "colab": {}
      },
      "source": [
        "import os\n",
        "import tensorflow as tf\n",
        "import  tensorflow_hub as hub\n",
        "import numpy as np\n",
        "import glob\n",
        "import pydicom as py\n",
        "import cv2\n",
        "import matplotlib.pyplot as plt\n",
        "\n",
        "from PIL import Image\n",
        "from google.colab.patches import cv2_imshow"
      ],
      "execution_count": 3,
      "outputs": []
    },
    {
      "cell_type": "code",
      "metadata": {
        "id": "PoXIgf4Gfr2P",
        "colab_type": "code",
        "colab": {}
      },
      "source": [
        "root_dir = 'drive/My Drive/Lab'"
      ],
      "execution_count": 4,
      "outputs": []
    },
    {
      "cell_type": "code",
      "metadata": {
        "id": "7-5pIfCQeyP1",
        "colab_type": "code",
        "colab": {}
      },
      "source": [
        "output_dir = os.path.join(root_dir, 'output/')\n",
        "\n",
        "model_file = os.path.join(output_dir, 'model.h5')"
      ],
      "execution_count": 5,
      "outputs": []
    },
    {
      "cell_type": "code",
      "metadata": {
        "id": "LAIRLi8heyP3",
        "colab_type": "code",
        "colab": {}
      },
      "source": [
        "model = tf.keras.models.load_model(\n",
        "    model_file,\n",
        "    custom_objects={\n",
        "        'KerasLayer': hub.KerasLayer\n",
        "    }\n",
        ")"
      ],
      "execution_count": 6,
      "outputs": []
    },
    {
      "cell_type": "code",
      "metadata": {
        "id": "k54QKqxieyP8",
        "colab_type": "code",
        "colab": {
          "base_uri": "https://localhost:8080/",
          "height": 391
        },
        "outputId": "919d6375-d208-4b52-86ce-86ee8aad9f58"
      },
      "source": [
        "model.summary()"
      ],
      "execution_count": 7,
      "outputs": [
        {
          "output_type": "stream",
          "text": [
            "Model: \"sequential\"\n",
            "_________________________________________________________________\n",
            "Layer (type)                 Output Shape              Param #   \n",
            "=================================================================\n",
            "keras_layer (KerasLayer)     (None, 1280)              2257984   \n",
            "_________________________________________________________________\n",
            "dropout (Dropout)            (None, 1280)              0         \n",
            "_________________________________________________________________\n",
            "dense (Dense)                (None, 1280)              1639680   \n",
            "_________________________________________________________________\n",
            "dropout_1 (Dropout)          (None, 1280)              0         \n",
            "_________________________________________________________________\n",
            "dense_1 (Dense)              (None, 540)               691740    \n",
            "_________________________________________________________________\n",
            "dropout_2 (Dropout)          (None, 540)               0         \n",
            "_________________________________________________________________\n",
            "dense_2 (Dense)              (None, 2)                 1082      \n",
            "=================================================================\n",
            "Total params: 4,590,486\n",
            "Trainable params: 2,332,502\n",
            "Non-trainable params: 2,257,984\n",
            "_________________________________________________________________\n"
          ],
          "name": "stdout"
        }
      ]
    },
    {
      "cell_type": "markdown",
      "metadata": {
        "id": "nFUQhSW_eyP_",
        "colab_type": "text"
      },
      "source": [
        "---\n",
        "---"
      ]
    },
    {
      "cell_type": "code",
      "metadata": {
        "id": "NykAjyG0eyQB",
        "colab_type": "code",
        "colab": {}
      },
      "source": [
        "def predict(np_image, model, top_k=1):\n",
        "    \n",
        "    image_tensor = tf.image.convert_image_dtype(np_image, dtype=tf.float32)\n",
        "\n",
        "    np_img = tf.image.resize(image_tensor, [224, 224]).numpy()\n",
        "\n",
        "    image = tf.expand_dims(np_img, 0)\n",
        "    \n",
        "    result = model.predict(image)\n",
        "\n",
        "    predicted_id = np.argmax(result, axis=-1)\n",
        "\n",
        "    return predicted_id[0]"
      ],
      "execution_count": 8,
      "outputs": []
    },
    {
      "cell_type": "code",
      "metadata": {
        "id": "b6eGHsnoeyQE",
        "colab_type": "code",
        "colab": {}
      },
      "source": [
        "def predict_dcm_path(dcm_path, model, top_k=1):\n",
        "    \n",
        "    np_image = py.dcmread(dcm_path).pixel_array\n",
        "    \n",
        "    return predict(np_image, model, top_k)"
      ],
      "execution_count": 9,
      "outputs": []
    },
    {
      "cell_type": "code",
      "metadata": {
        "id": "2eSD0144eyQH",
        "colab_type": "code",
        "colab": {}
      },
      "source": [
        "def predict_jpg_path(jpg_path, model, top_k=1):\n",
        "\n",
        "    np_image = cv2.imread(jpg_path, 0)\n",
        "\n",
        "    np_image = cv2.cvtColor(np_image, cv2.COLOR_GRAY2RGB)\n",
        "    \n",
        "    return predict(np_image, model, top_k)"
      ],
      "execution_count": 10,
      "outputs": []
    },
    {
      "cell_type": "markdown",
      "metadata": {
        "id": "Z0CZb1hKZaK5",
        "colab_type": "text"
      },
      "source": [
        "---\n",
        "---"
      ]
    },
    {
      "cell_type": "code",
      "metadata": {
        "id": "btboHka6VsEx",
        "colab_type": "code",
        "colab": {}
      },
      "source": [
        "image_file_paths = glob.glob('/{}/PNEUMONIA(*).jpg'.format('content'))"
      ],
      "execution_count": 11,
      "outputs": []
    },
    {
      "cell_type": "code",
      "metadata": {
        "id": "ZbThD-X_35mj",
        "colab_type": "code",
        "colab": {
          "base_uri": "https://localhost:8080/",
          "height": 34
        },
        "outputId": "39f8c51d-288d-4197-9549-18c89cc83e87"
      },
      "source": [
        "correct_positive = 0\n",
        "\n",
        "for filepath in image_file_paths:\n",
        "  if (predict_jpg_path(filepath, model) == 1):\n",
        "    correct_positive += 1\n",
        "\n",
        "print(correct_positive / len(image_file_paths))"
      ],
      "execution_count": 12,
      "outputs": [
        {
          "output_type": "stream",
          "text": [
            "0.8103448275862069\n"
          ],
          "name": "stdout"
        }
      ]
    },
    {
      "cell_type": "code",
      "metadata": {
        "id": "XRmVzyQJFkuA",
        "colab_type": "code",
        "colab": {}
      },
      "source": [
        "image_file_paths = glob.glob('/{}/NORMAL(*).jpg'.format('content'))"
      ],
      "execution_count": 13,
      "outputs": []
    },
    {
      "cell_type": "code",
      "metadata": {
        "id": "sXFhfd8-FqSz",
        "colab_type": "code",
        "colab": {
          "base_uri": "https://localhost:8080/",
          "height": 34
        },
        "outputId": "a4177034-8417-4cbe-dec2-d7e41c017607"
      },
      "source": [
        "correct_negative = 0\n",
        "\n",
        "for filepath in image_file_paths:\n",
        "  if (predict_jpg_path(filepath, model) == 0):\n",
        "    correct_negative += 1\n",
        "\n",
        "print(correct_negative / len(image_file_paths))"
      ],
      "execution_count": 14,
      "outputs": [
        {
          "output_type": "stream",
          "text": [
            "0.8\n"
          ],
          "name": "stdout"
        }
      ]
    }
  ]
}