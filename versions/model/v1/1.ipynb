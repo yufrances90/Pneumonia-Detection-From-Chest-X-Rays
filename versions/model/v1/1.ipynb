{
  "nbformat": 4,
  "nbformat_minor": 0,
  "metadata": {
    "kernelspec": {
      "display_name": "Python 3",
      "language": "python",
      "name": "python3"
    },
    "language_info": {
      "codemirror_mode": {
        "name": "ipython",
        "version": 3
      },
      "file_extension": ".py",
      "mimetype": "text/x-python",
      "name": "python",
      "nbconvert_exporter": "python",
      "pygments_lexer": "ipython3",
      "version": "3.8.3"
    },
    "colab": {
      "name": "1.ipynb",
      "provenance": [],
      "collapsed_sections": [],
      "machine_shape": "hm"
    },
    "accelerator": "GPU"
  },
  "cells": [
    {
      "cell_type": "code",
      "metadata": {
        "id": "4gqupEmDRMIS",
        "colab_type": "code",
        "colab": {
          "base_uri": "https://localhost:8080/",
          "height": 34
        },
        "outputId": "bafc906c-9bd7-4b37-d91b-d7bd01f59276"
      },
      "source": [
        "from google.colab import drive\n",
        "drive.mount('/content/drive')"
      ],
      "execution_count": 1,
      "outputs": [
        {
          "output_type": "stream",
          "text": [
            "Drive already mounted at /content/drive; to attempt to forcibly remount, call drive.mount(\"/content/drive\", force_remount=True).\n"
          ],
          "name": "stdout"
        }
      ]
    },
    {
      "cell_type": "code",
      "metadata": {
        "id": "DtV-gH96RHLv",
        "colab_type": "code",
        "colab": {
          "base_uri": "https://localhost:8080/",
          "height": 88
        },
        "outputId": "2fae7a75-c524-4c6e-f948-2729a0885af1"
      },
      "source": [
        "import os\n",
        "import pandas as pd\n",
        "import matplotlib.pyplot as plt\n",
        "import numpy as np\n",
        "import seaborn as sns\n",
        "import tensorflow as tf\n",
        "import tensorflow_hub as hub\n",
        "\n",
        "from keras_preprocessing.image import ImageDataGenerator\n",
        "from keras.utils.vis_utils import plot_model"
      ],
      "execution_count": 2,
      "outputs": [
        {
          "output_type": "stream",
          "text": [
            "/usr/local/lib/python3.6/dist-packages/statsmodels/tools/_testing.py:19: FutureWarning: pandas.util.testing is deprecated. Use the functions in the public API at pandas.testing instead.\n",
            "  import pandas.util.testing as tm\n",
            "Using TensorFlow backend.\n"
          ],
          "name": "stderr"
        }
      ]
    },
    {
      "cell_type": "code",
      "metadata": {
        "id": "PRwYe9ekRHLz",
        "colab_type": "code",
        "colab": {}
      },
      "source": [
        "num_of_gpu = len(tf.config.experimental.list_physical_devices('GPU'))\n",
        "\n",
        "train_on_gpu = num_of_gpu > 0 "
      ],
      "execution_count": 3,
      "outputs": []
    },
    {
      "cell_type": "code",
      "metadata": {
        "id": "tmnWgRaTRHL2",
        "colab_type": "code",
        "colab": {}
      },
      "source": [
        "root_dir = 'drive/My Drive/Lab' \n",
        "# if train_on_gpu else '.'\n",
        "\n",
        "data_dir = os.path.join(root_dir, 'data/')\n",
        "output_dir = os.path.join(root_dir, 'output/')\n",
        "\n",
        "csv_dir = os.path.join(data_dir, 'csv/')\n",
        "images_dir = os.path.join(data_dir, 'images/')\n",
        "\n",
        "training_file = os.path.join(csv_dir, 'train_data.csv')\n",
        "\n",
        "testing_file = os.path.join(csv_dir, 'test_data.csv')"
      ],
      "execution_count": 4,
      "outputs": []
    },
    {
      "cell_type": "code",
      "metadata": {
        "id": "QD4g7eRCRHL5",
        "colab_type": "code",
        "colab": {}
      },
      "source": [
        "training_df = pd.read_csv(training_file, index_col=0)\n",
        "testing_df = pd.read_csv(testing_file, index_col=0)"
      ],
      "execution_count": 5,
      "outputs": []
    },
    {
      "cell_type": "code",
      "metadata": {
        "id": "SjKQqNY7GQG-",
        "colab_type": "code",
        "colab": {}
      },
      "source": [
        "training_df['pneumonia'] = training_df['pneumonia'].astype(str)\n",
        "testing_df['pneumonia'] = testing_df['pneumonia'].astype(str)"
      ],
      "execution_count": 6,
      "outputs": []
    },
    {
      "cell_type": "code",
      "metadata": {
        "id": "ZyDIbVrXRHL8",
        "colab_type": "code",
        "colab": {}
      },
      "source": [
        "batch_size = 32\n",
        "image_size = (224, 224)"
      ],
      "execution_count": 7,
      "outputs": []
    },
    {
      "cell_type": "code",
      "metadata": {
        "id": "l2iLv-rcRHL_",
        "colab_type": "code",
        "colab": {}
      },
      "source": [
        "train_datagen = ImageDataGenerator(\n",
        "    rescale=1./255.,  \n",
        "    horizontal_flip = True, \n",
        "    vertical_flip = False, \n",
        "    height_shift_range= 0.1, \n",
        "    width_shift_range=0.1, \n",
        "    rotation_range=20,\n",
        "    shear_range = 0.1,\n",
        "    zoom_range=0.2,\n",
        "    validation_split=0.2\n",
        ")\n",
        "\n",
        "test_datagen = ImageDataGenerator(rescale=1./255.)"
      ],
      "execution_count": 8,
      "outputs": []
    },
    {
      "cell_type": "code",
      "metadata": {
        "id": "Px_Oe7HvRHMB",
        "colab_type": "code",
        "colab": {
          "base_uri": "https://localhost:8080/",
          "height": 68
        },
        "outputId": "ef8feac2-cd36-4b02-dc3c-b4b6f872b181"
      },
      "source": [
        "train_generator=train_datagen.flow_from_dataframe(\n",
        "    dataframe=training_df,\n",
        "    directory=images_dir,\n",
        "    x_col=\"image_index\",\n",
        "    y_col='pneumonia', \n",
        "    batch_size=batch_size,\n",
        "    seed=42,\n",
        "    shuffle=True,\n",
        "    class_mode='categorical',\n",
        "    target_size=image_size,\n",
        "    subset='training'\n",
        ")\n",
        "\n",
        "valid_generator=train_datagen.flow_from_dataframe(\n",
        "    dataframe=training_df,\n",
        "    directory=images_dir,\n",
        "    x_col=\"image_index\",\n",
        "    y_col='pneumonia', \n",
        "    batch_size=batch_size,\n",
        "    seed=42,\n",
        "    shuffle=False,\n",
        "    class_mode='categorical',\n",
        "    target_size=image_size,\n",
        "    subset='validation'\n",
        ")\n",
        "\n",
        "test_generator=test_datagen.flow_from_dataframe(\n",
        "    dataframe=testing_df,\n",
        "    directory=images_dir,\n",
        "    x_col=\"image_index\",\n",
        "    y_col='pneumonia',\n",
        "    batch_size=batch_size,\n",
        "    seed=42,\n",
        "    shuffle=False,\n",
        "    class_mode='categorical',\n",
        "    target_size=image_size\n",
        ")"
      ],
      "execution_count": 9,
      "outputs": [
        {
          "output_type": "stream",
          "text": [
            "Found 3588 validated image filenames belonging to 2 classes.\n",
            "Found 897 validated image filenames belonging to 2 classes.\n",
            "Found 1121 validated image filenames belonging to 2 classes.\n"
          ],
          "name": "stdout"
        }
      ]
    },
    {
      "cell_type": "code",
      "metadata": {
        "id": "gwce5o0fRHMJ",
        "colab_type": "code",
        "colab": {}
      },
      "source": [
        "num_classes = 2"
      ],
      "execution_count": 10,
      "outputs": []
    },
    {
      "cell_type": "code",
      "metadata": {
        "id": "gDqSS7YQG1er",
        "colab_type": "code",
        "colab": {}
      },
      "source": [
        "URL = \"https://tfhub.dev/google/imagenet/resnet_v2_50/feature_vector/4\"\n",
        "\n",
        "IMG_WIDTH, IMG_HEIGHT = image_size\n",
        "\n",
        "feature_extractor = hub.KerasLayer(URL, input_shape=(IMG_WIDTH, IMG_HEIGHT, 3))\n",
        "\n",
        "feature_extractor.trainable = False"
      ],
      "execution_count": 11,
      "outputs": []
    },
    {
      "cell_type": "code",
      "metadata": {
        "id": "duUIACAiRHML",
        "colab_type": "code",
        "colab": {
          "base_uri": "https://localhost:8080/",
          "height": 323
        },
        "outputId": "30016c59-9b27-4537-a013-c4e1d69a3aaa"
      },
      "source": [
        "model = tf.keras.Sequential([\n",
        "        feature_extractor,\n",
        "        tf.keras.layers.Dropout(0.5),\n",
        "        tf.keras.layers.Dense(\n",
        "            1280, \n",
        "            activation = 'relu', \n",
        "        ),\n",
        "        tf.keras.layers.Dense(\n",
        "            540, \n",
        "            activation = 'relu'\n",
        "        ),\n",
        "        tf.keras.layers.Dense(num_classes, activation = 'softmax')\n",
        "])\n",
        "\n",
        "model.summary()"
      ],
      "execution_count": 12,
      "outputs": [
        {
          "output_type": "stream",
          "text": [
            "Model: \"sequential\"\n",
            "_________________________________________________________________\n",
            "Layer (type)                 Output Shape              Param #   \n",
            "=================================================================\n",
            "keras_layer (KerasLayer)     (None, 2048)              23564800  \n",
            "_________________________________________________________________\n",
            "dropout (Dropout)            (None, 2048)              0         \n",
            "_________________________________________________________________\n",
            "dense (Dense)                (None, 1280)              2622720   \n",
            "_________________________________________________________________\n",
            "dense_1 (Dense)              (None, 540)               691740    \n",
            "_________________________________________________________________\n",
            "dense_2 (Dense)              (None, 2)                 1082      \n",
            "=================================================================\n",
            "Total params: 26,880,342\n",
            "Trainable params: 3,315,542\n",
            "Non-trainable params: 23,564,800\n",
            "_________________________________________________________________\n"
          ],
          "name": "stdout"
        }
      ]
    },
    {
      "cell_type": "code",
      "metadata": {
        "id": "zWT6NKX3RHMO",
        "colab_type": "code",
        "colab": {}
      },
      "source": [
        "model.compile(optimizer='adam',\n",
        "              loss='binary_crossentropy',\n",
        "              metrics=['accuracy'])"
      ],
      "execution_count": 13,
      "outputs": []
    },
    {
      "cell_type": "code",
      "metadata": {
        "id": "4rAyNx66y64N",
        "colab_type": "code",
        "colab": {
          "base_uri": "https://localhost:8080/",
          "height": 85
        },
        "outputId": "9d67a8b5-377d-407c-acec-3d12d622c6c0"
      },
      "source": [
        "loss, accuracy = model.evaluate(test_generator)\n",
        "\n",
        "print('\\nLoss before training: {:,.3f}'.format(loss))\n",
        "print('Accuracy before training: {:.3%}'.format(accuracy))"
      ],
      "execution_count": 14,
      "outputs": [
        {
          "output_type": "stream",
          "text": [
            "36/36 [==============================] - 25s 708ms/step - loss: 0.8486 - accuracy: 0.4764\n",
            "\n",
            "Loss before training: 0.849\n",
            "Accuracy before training: 47.636%\n"
          ],
          "name": "stdout"
        }
      ]
    },
    {
      "cell_type": "code",
      "metadata": {
        "id": "RKXRuRUyVBIr",
        "colab_type": "code",
        "colab": {
          "base_uri": "https://localhost:8080/",
          "height": 51
        },
        "outputId": "f4519896-6ab7-4a93-803e-4cc83e6c4923"
      },
      "source": [
        "EPOCHS = 500\n",
        "\n",
        "model_file = os.path.join(output_dir, 'model.h5')\n",
        "\n",
        "early_stopping = tf.keras.callbacks.EarlyStopping(monitor='val_accuracy', patience=5)\n",
        "save_best = tf.keras.callbacks.ModelCheckpoint(model_file, monitor='val_accuracy', save_best_only=True)\n",
        "\n",
        "history = model.fit(\n",
        "    train_generator, \n",
        "    epochs = EPOCHS, \n",
        "    validation_data=valid_generator, \n",
        "    callbacks=[early_stopping, save_best]\n",
        ")"
      ],
      "execution_count": null,
      "outputs": [
        {
          "output_type": "stream",
          "text": [
            "Epoch 1/500\n",
            " 82/113 [====================>.........] - ETA: 31s - loss: 0.8945 - accuracy: 0.5911"
          ],
          "name": "stdout"
        }
      ]
    },
    {
      "cell_type": "code",
      "metadata": {
        "id": "rAdIgvcRy8k2",
        "colab_type": "code",
        "colab": {}
      },
      "source": [
        "loss, accuracy = model.evaluate(test_generator)\n",
        "\n",
        "print('\\nLoss after training: {:,.3f}'.format(loss))\n",
        "print('Accuracy after training: {:.3%}'.format(accuracy))"
      ],
      "execution_count": null,
      "outputs": []
    },
    {
      "cell_type": "code",
      "metadata": {
        "id": "zXs7TBI5n7ID",
        "colab_type": "code",
        "colab": {}
      },
      "source": [
        "final_model_file = os.path.join(output_dir, 'final-model.h5')\n",
        "\n",
        "model.save(final_model_file)"
      ],
      "execution_count": null,
      "outputs": []
    }
  ]
}