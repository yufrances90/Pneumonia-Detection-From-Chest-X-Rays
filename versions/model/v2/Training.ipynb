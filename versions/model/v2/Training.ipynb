{
  "nbformat": 4,
  "nbformat_minor": 0,
  "metadata": {
    "kernelspec": {
      "display_name": "Python 3",
      "language": "python",
      "name": "python3"
    },
    "language_info": {
      "codemirror_mode": {
        "name": "ipython",
        "version": 3
      },
      "file_extension": ".py",
      "mimetype": "text/x-python",
      "name": "python",
      "nbconvert_exporter": "python",
      "pygments_lexer": "ipython3",
      "version": "3.8.3"
    },
    "colab": {
      "name": "Training.ipynb",
      "provenance": [],
      "collapsed_sections": [],
      "machine_shape": "hm"
    },
    "accelerator": "GPU"
  },
  "cells": [
    {
      "cell_type": "code",
      "metadata": {
        "id": "4gqupEmDRMIS",
        "colab_type": "code",
        "colab": {
          "base_uri": "https://localhost:8080/",
          "height": 34
        },
        "outputId": "5a97f4bc-c121-4ea8-8236-943cf5d1295f"
      },
      "source": [
        "from google.colab import drive\n",
        "drive.mount('/content/drive')"
      ],
      "execution_count": 1,
      "outputs": [
        {
          "output_type": "stream",
          "text": [
            "Drive already mounted at /content/drive; to attempt to forcibly remount, call drive.mount(\"/content/drive\", force_remount=True).\n"
          ],
          "name": "stdout"
        }
      ]
    },
    {
      "cell_type": "code",
      "metadata": {
        "id": "DtV-gH96RHLv",
        "colab_type": "code",
        "colab": {
          "base_uri": "https://localhost:8080/",
          "height": 88
        },
        "outputId": "e4678533-c173-4b1e-f6b5-776ac9ab45f6"
      },
      "source": [
        "import os\n",
        "import pandas as pd\n",
        "import matplotlib.pyplot as plt\n",
        "import numpy as np\n",
        "import seaborn as sns\n",
        "import tensorflow as tf\n",
        "import tensorflow_hub as hub\n",
        "\n",
        "from keras_preprocessing.image import ImageDataGenerator\n",
        "from keras.utils.vis_utils import plot_model"
      ],
      "execution_count": 2,
      "outputs": [
        {
          "output_type": "stream",
          "text": [
            "/usr/local/lib/python3.6/dist-packages/statsmodels/tools/_testing.py:19: FutureWarning: pandas.util.testing is deprecated. Use the functions in the public API at pandas.testing instead.\n",
            "  import pandas.util.testing as tm\n",
            "Using TensorFlow backend.\n"
          ],
          "name": "stderr"
        }
      ]
    },
    {
      "cell_type": "code",
      "metadata": {
        "id": "PRwYe9ekRHLz",
        "colab_type": "code",
        "colab": {}
      },
      "source": [
        "num_of_gpu = len(tf.config.experimental.list_physical_devices('GPU'))\n",
        "\n",
        "train_on_gpu = num_of_gpu > 0 "
      ],
      "execution_count": 3,
      "outputs": []
    },
    {
      "cell_type": "code",
      "metadata": {
        "id": "tmnWgRaTRHL2",
        "colab_type": "code",
        "colab": {}
      },
      "source": [
        "root_dir = 'drive/My Drive/Lab' \n",
        "# if train_on_gpu else '.'\n",
        "\n",
        "data_dir = os.path.join(root_dir, 'data/')\n",
        "output_dir = os.path.join(root_dir, 'output/')\n",
        "\n",
        "csv_dir = os.path.join(data_dir, 'csv/')\n",
        "images_dir = os.path.join(data_dir, 'images/')\n",
        "\n",
        "training_file = os.path.join(csv_dir, 'train_data.csv')\n",
        "\n",
        "testing_file = os.path.join(csv_dir, 'test_data.csv')"
      ],
      "execution_count": 4,
      "outputs": []
    },
    {
      "cell_type": "code",
      "metadata": {
        "id": "QD4g7eRCRHL5",
        "colab_type": "code",
        "colab": {}
      },
      "source": [
        "training_df = pd.read_csv(training_file, index_col=0)\n",
        "testing_df = pd.read_csv(testing_file, index_col=0)"
      ],
      "execution_count": 5,
      "outputs": []
    },
    {
      "cell_type": "code",
      "metadata": {
        "id": "SjKQqNY7GQG-",
        "colab_type": "code",
        "colab": {}
      },
      "source": [
        "training_df['pneumonia'] = training_df['pneumonia'].astype(str)\n",
        "testing_df['pneumonia'] = testing_df['pneumonia'].astype(str)"
      ],
      "execution_count": 6,
      "outputs": []
    },
    {
      "cell_type": "code",
      "metadata": {
        "id": "9Ho9cEybtPdk",
        "colab_type": "code",
        "colab": {}
      },
      "source": [
        "di = {'0': \"NORMAL\", '1': \"PNEUMONIA\"}\n",
        "\n",
        "training_df['pneumonia'].replace(di, inplace=True)\n",
        "testing_df['pneumonia'].replace(di, inplace=True)"
      ],
      "execution_count": 7,
      "outputs": []
    },
    {
      "cell_type": "code",
      "metadata": {
        "id": "ZyDIbVrXRHL8",
        "colab_type": "code",
        "colab": {}
      },
      "source": [
        "batch_size = 64\n",
        "image_size = (224, 224)"
      ],
      "execution_count": 8,
      "outputs": []
    },
    {
      "cell_type": "code",
      "metadata": {
        "id": "l2iLv-rcRHL_",
        "colab_type": "code",
        "colab": {}
      },
      "source": [
        "train_datagen = ImageDataGenerator(\n",
        "    rescale=1./255.,  \n",
        "    horizontal_flip = True, \n",
        "    vertical_flip = False, \n",
        "    height_shift_range= 0.1, \n",
        "    width_shift_range=0.1, \n",
        "    rotation_range=30,\n",
        "    shear_range = 0.1,\n",
        "    zoom_range=0.2,\n",
        "    validation_split=0.2\n",
        ")\n",
        "\n",
        "test_datagen = ImageDataGenerator(rescale=1./255.)"
      ],
      "execution_count": 9,
      "outputs": []
    },
    {
      "cell_type": "code",
      "metadata": {
        "id": "Px_Oe7HvRHMB",
        "colab_type": "code",
        "colab": {
          "base_uri": "https://localhost:8080/",
          "height": 68
        },
        "outputId": "352d06c8-b0e7-4456-91b0-215604c502a2"
      },
      "source": [
        "train_generator=train_datagen.flow_from_dataframe(\n",
        "    dataframe=training_df,\n",
        "    directory=images_dir,\n",
        "    x_col=\"image_index\",\n",
        "    y_col='pneumonia', \n",
        "    batch_size=batch_size,\n",
        "    seed=42,\n",
        "    shuffle=True,\n",
        "    class_mode='categorical',\n",
        "    target_size=image_size,\n",
        "    subset='training',\n",
        "    color_mode='rgb', \n",
        "    classes=['NORMAL', 'PNEUMONIA']\n",
        ")\n",
        "\n",
        "valid_generator=train_datagen.flow_from_dataframe(\n",
        "    dataframe=training_df,\n",
        "    directory=images_dir,\n",
        "    x_col=\"image_index\",\n",
        "    y_col='pneumonia', \n",
        "    batch_size=batch_size,\n",
        "    seed=42,\n",
        "    shuffle=False,\n",
        "    class_mode='categorical',\n",
        "    target_size=image_size,\n",
        "    subset='validation',\n",
        "    color_mode='rgb', \n",
        "    classes=['NORMAL', 'PNEUMONIA']\n",
        ")\n",
        "\n",
        "test_generator=test_datagen.flow_from_dataframe(\n",
        "    dataframe=testing_df,\n",
        "    directory=images_dir,\n",
        "    x_col=\"image_index\",\n",
        "    y_col='pneumonia',\n",
        "    batch_size=batch_size,\n",
        "    seed=42,\n",
        "    shuffle=False,\n",
        "    class_mode='categorical',\n",
        "    target_size=image_size,\n",
        "    color_mode='rgb', \n",
        "    classes=['NORMAL', 'PNEUMONIA']\n",
        ")"
      ],
      "execution_count": 10,
      "outputs": [
        {
          "output_type": "stream",
          "text": [
            "Found 3588 validated image filenames belonging to 2 classes.\n",
            "Found 897 validated image filenames belonging to 2 classes.\n",
            "Found 1121 validated image filenames belonging to 2 classes.\n"
          ],
          "name": "stdout"
        }
      ]
    },
    {
      "cell_type": "code",
      "metadata": {
        "id": "gwce5o0fRHMJ",
        "colab_type": "code",
        "colab": {}
      },
      "source": [
        "num_classes = 2"
      ],
      "execution_count": 11,
      "outputs": []
    },
    {
      "cell_type": "code",
      "metadata": {
        "id": "gDqSS7YQG1er",
        "colab_type": "code",
        "colab": {}
      },
      "source": [
        "URL = \"https://tfhub.dev/google/tf2-preview/mobilenet_v2/feature_vector/4\"\n",
        "\n",
        "IMG_WIDTH, IMG_HEIGHT = image_size\n",
        "\n",
        "feature_extractor = hub.KerasLayer(URL, input_shape=(IMG_WIDTH, IMG_HEIGHT, 3))\n",
        "\n",
        "feature_extractor.trainable = False"
      ],
      "execution_count": 12,
      "outputs": []
    },
    {
      "cell_type": "code",
      "metadata": {
        "id": "duUIACAiRHML",
        "colab_type": "code",
        "colab": {
          "base_uri": "https://localhost:8080/",
          "height": 391
        },
        "outputId": "eaaa8bb6-1d08-4158-ac1e-36a2e0e12dd8"
      },
      "source": [
        "model = tf.keras.Sequential([\n",
        "        feature_extractor,\n",
        "        tf.keras.layers.Dropout(0.5),\n",
        "        tf.keras.layers.Dense(1280, activation = 'relu'),\n",
        "        tf.keras.layers.Dropout(0.5),\n",
        "        tf.keras.layers.Dense(540, activation = 'relu'),\n",
        "        tf.keras.layers.Dropout(0.5),\n",
        "        tf.keras.layers.Dense(num_classes, activation = 'softmax')\n",
        "])\n",
        "\n",
        "model.summary()"
      ],
      "execution_count": 13,
      "outputs": [
        {
          "output_type": "stream",
          "text": [
            "Model: \"sequential\"\n",
            "_________________________________________________________________\n",
            "Layer (type)                 Output Shape              Param #   \n",
            "=================================================================\n",
            "keras_layer (KerasLayer)     (None, 1280)              2257984   \n",
            "_________________________________________________________________\n",
            "dropout (Dropout)            (None, 1280)              0         \n",
            "_________________________________________________________________\n",
            "dense (Dense)                (None, 1280)              1639680   \n",
            "_________________________________________________________________\n",
            "dropout_1 (Dropout)          (None, 1280)              0         \n",
            "_________________________________________________________________\n",
            "dense_1 (Dense)              (None, 540)               691740    \n",
            "_________________________________________________________________\n",
            "dropout_2 (Dropout)          (None, 540)               0         \n",
            "_________________________________________________________________\n",
            "dense_2 (Dense)              (None, 2)                 1082      \n",
            "=================================================================\n",
            "Total params: 4,590,486\n",
            "Trainable params: 2,332,502\n",
            "Non-trainable params: 2,257,984\n",
            "_________________________________________________________________\n"
          ],
          "name": "stdout"
        }
      ]
    },
    {
      "cell_type": "code",
      "metadata": {
        "id": "zWT6NKX3RHMO",
        "colab_type": "code",
        "colab": {}
      },
      "source": [
        "model.compile(optimizer='adam',\n",
        "              loss='binary_crossentropy',\n",
        "              metrics=['accuracy'])"
      ],
      "execution_count": 14,
      "outputs": []
    },
    {
      "cell_type": "code",
      "metadata": {
        "id": "4rAyNx66y64N",
        "colab_type": "code",
        "colab": {
          "base_uri": "https://localhost:8080/",
          "height": 85
        },
        "outputId": "b3a3d6c6-71b1-4275-b779-7165f326b0f6"
      },
      "source": [
        "loss, accuracy = model.evaluate(test_generator)\n",
        "\n",
        "print('\\nLoss before training: {:,.3f}'.format(loss))\n",
        "print('Accuracy before training: {:.3%}'.format(accuracy))"
      ],
      "execution_count": 15,
      "outputs": [
        {
          "output_type": "stream",
          "text": [
            "18/18 [==============================] - 24s 1s/step - loss: 0.7704 - accuracy: 0.4710\n",
            "\n",
            "Loss before training: 0.770\n",
            "Accuracy before training: 47.101%\n"
          ],
          "name": "stdout"
        }
      ]
    },
    {
      "cell_type": "code",
      "metadata": {
        "id": "RKXRuRUyVBIr",
        "colab_type": "code",
        "colab": {
          "base_uri": "https://localhost:8080/",
          "height": 255
        },
        "outputId": "c1d54668-b796-4566-a904-2cfbf64727a4"
      },
      "source": [
        "EPOCHS = 500\n",
        "\n",
        "model_file = os.path.join(output_dir, 'model.h5')\n",
        "\n",
        "early_stopping = tf.keras.callbacks.EarlyStopping(\n",
        "                    monitor='val_accuracy', \n",
        "                    patience=10\n",
        "                 )\n",
        "\n",
        "save_best = tf.keras.callbacks.ModelCheckpoint(\n",
        "                model_file, \n",
        "                monitor='val_accuracy', \n",
        "                save_best_only=True\n",
        "            )\n",
        "\n",
        "history = model.fit(\n",
        "    train_generator, \n",
        "    epochs = EPOCHS, \n",
        "    validation_data=valid_generator, \n",
        "    callbacks=[early_stopping, save_best]\n",
        ")"
      ],
      "execution_count": null,
      "outputs": [
        {
          "output_type": "stream",
          "text": [
            "Epoch 1/500\n",
            "57/57 [==============================] - 146s 3s/step - loss: 0.9723 - accuracy: 0.5329 - val_loss: 0.6641 - val_accuracy: 0.6187\n",
            "Epoch 2/500\n",
            "57/57 [==============================] - 143s 3s/step - loss: 0.7068 - accuracy: 0.5649 - val_loss: 0.6690 - val_accuracy: 0.5797\n",
            "Epoch 3/500\n",
            "57/57 [==============================] - 142s 2s/step - loss: 0.6863 - accuracy: 0.5864 - val_loss: 0.6648 - val_accuracy: 0.5964\n",
            "Epoch 4/500\n",
            "57/57 [==============================] - 144s 3s/step - loss: 0.6814 - accuracy: 0.5842 - val_loss: 0.6570 - val_accuracy: 0.6288\n",
            "Epoch 5/500\n",
            "57/57 [==============================] - 143s 3s/step - loss: 0.6747 - accuracy: 0.5906 - val_loss: 0.6581 - val_accuracy: 0.6221\n",
            "Epoch 6/500\n",
            "57/57 [==============================] - 143s 3s/step - loss: 0.6721 - accuracy: 0.5917 - val_loss: 0.6500 - val_accuracy: 0.6276\n",
            "Epoch 7/500\n",
            "47/57 [=======================>......] - ETA: 19s - loss: 0.6655 - accuracy: 0.6130"
          ],
          "name": "stdout"
        }
      ]
    },
    {
      "cell_type": "code",
      "metadata": {
        "id": "rAdIgvcRy8k2",
        "colab_type": "code",
        "colab": {}
      },
      "source": [
        "loss, accuracy = model.evaluate(test_generator)\n",
        "\n",
        "print('\\nLoss after training: {:,.3f}'.format(loss))\n",
        "print('Accuracy after training: {:.3%}'.format(accuracy))"
      ],
      "execution_count": null,
      "outputs": []
    },
    {
      "cell_type": "code",
      "metadata": {
        "id": "zXs7TBI5n7ID",
        "colab_type": "code",
        "colab": {}
      },
      "source": [
        "final_model_file = os.path.join(output_dir, 'final-model.h5')\n",
        "\n",
        "model.save(final_model_file)"
      ],
      "execution_count": null,
      "outputs": []
    },
    {
      "cell_type": "code",
      "metadata": {
        "id": "Rh5b9hicSgC8",
        "colab_type": "code",
        "colab": {}
      },
      "source": [
        "training_accuracy = history.history['accuracy']\n",
        "validation_accuracy = history.history['val_accuracy']\n",
        "\n",
        "training_loss = history.history['loss']\n",
        "validation_loss = history.history['val_loss']\n",
        "\n",
        "epochs_range=range(len(training_accuracy))\n",
        "\n",
        "plt.figure(figsize=(20, 10))\n",
        "plt.subplot(1, 2, 1)\n",
        "plt.plot(epochs_range, training_accuracy, label='Training Accuracy')\n",
        "plt.plot(epochs_range, validation_accuracy, label='Validation Accuracy')\n",
        "plt.legend(loc='lower right')\n",
        "plt.title('Training and Validation Accuracy')\n",
        "\n",
        "plt.subplot(1, 2, 2)\n",
        "plt.plot(epochs_range, training_loss, label='Training Loss')\n",
        "plt.plot(epochs_range, validation_loss, label='Validation Loss')\n",
        "plt.legend(loc='upper right')\n",
        "plt.title('Training and Validation Loss')\n",
        "plt.show()"
      ],
      "execution_count": null,
      "outputs": []
    }
  ]
}